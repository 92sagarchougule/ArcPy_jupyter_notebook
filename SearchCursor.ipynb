{
 "cells": [
  {
   "cell_type": "code",
   "execution_count": 40,
   "metadata": {},
   "outputs": [],
   "source": [
    "import arcpy\n",
    "import os\n",
    "from arcpy import env\n",
    "env.workspace = r'D:\\tmep'"
   ]
  },
  {
   "cell_type": "code",
   "execution_count": 42,
   "metadata": {},
   "outputs": [
    {
     "name": "stdout",
     "output_type": "stream",
     "text": [
      "1  :  Fishnet.shp\n",
      "2  :  Fishnet_label.shp\n",
      "3  :  New Personal Geodatabase.shp\n",
      "4  :  New Personal Geodatabase_label.shp\n",
      "5  :  pon.shp\n",
      "6  :  pourpoint.shp\n",
      "7  :  pourpoint_buf1000.shp\n",
      "8  :  Properties_with_HH.shp\n"
     ]
    }
   ],
   "source": [
    "fclist = arcpy.ListFeatureClasses()\n",
    "count = 0\n",
    "for fc in fclist:\n",
    "    count +=1\n",
    "    print(count, ' : ',fc)"
   ]
  },
  {
   "cell_type": "code",
   "execution_count": 43,
   "metadata": {},
   "outputs": [],
   "source": [
    "data = fclist[7]"
   ]
  },
  {
   "cell_type": "code",
   "execution_count": 44,
   "metadata": {},
   "outputs": [
    {
     "name": "stdout",
     "output_type": "stream",
     "text": [
      "FID \tShape \tName \tPropertyNo \tDate \tWard \tOw_Name \tGender \tinfoGave \tHH_Member \tgotFrom \tCategory \tPanth \tCast \tSampraday \tReligion \tSubReligio \tOwnHouse \tRent \tTypeHouse \tAtt_Toilet \tDrain_Conn \tWaste_Coll \tCompost \tBioGass \tCook_By \tHot_Water \tGrain_Vege \tQlty_Water \tFood_Organ \tLand_Area \tFarming_ty \tDessi_Caw \tFertilizer \tIrrigation \tSys_Irriga \tCrop_Type \tCrop_Seaso \tNo_of_Caw \tNo_of_Buff \tNo_of_Goat \tNo_of_Shee \tPoultry \tPiggry \tMigration \tNo_Migrati \tDay_Migrat \tyear_Migra \tIncome \tHH_Num \t"
     ]
    }
   ],
   "source": [
    "fields = arcpy.ListFields(data)\n",
    "\n",
    "for field in fields:\n",
    "    print(field.name,'\\t',end='')"
   ]
  },
  {
   "cell_type": "code",
   "execution_count": 45,
   "metadata": {},
   "outputs": [],
   "source": [
    "rows = arcpy.da.SearchCursor(data,['PropertyNo','Ow_Name','HH_Member','Category'])"
   ]
  },
  {
   "cell_type": "code",
   "execution_count": 46,
   "metadata": {},
   "outputs": [
    {
     "name": "stdout",
     "output_type": "stream",
     "text": [
      "1\n",
      "Ramappa hanumappa hiregouder\n",
      "5\n",
      "ST\n"
     ]
    }
   ],
   "source": [
    "row = rows.next()\n",
    "print(row[0])\n",
    "print(row[1])\n",
    "print(row[2])\n",
    "print(row[3])"
   ]
  },
  {
   "cell_type": "code",
   "execution_count": 47,
   "metadata": {},
   "outputs": [
    {
     "name": "stdout",
     "output_type": "stream",
     "text": [
      "2  :  Renamma malinakeri\n",
      "3  :  Shivarudrappa talawar\n",
      "4  :  Verrana kotrappa souenahalli\n",
      "5  :  Gangamma kavalur\n",
      "6  :  Yallama talavar\n",
      "7  :  Babaunath rangappa talwar\n",
      "8  :  Anil kumar budihal\n",
      "9  :  Suresh\n",
      "10  :  Srikanth batanavar\n",
      "11  :  Totayahamarya hiremath\n",
      "12  :  Reshma sanakal\n",
      "13  :  Veeraya hiremath\n",
      "15  :  Yerappa b maduval\n",
      "16  :  Hamumanth sanakal\n",
      "18B  :  Veena jader\n",
      "19  :  Jagadesh angadi\n",
      "21  :  Mamtaz kampli\n",
      "23  :  Ganesh purad\n",
      "24  :  Devakka puradari\n",
      "26  :  Erappa dambal\n",
      "27  :  Mounesh badeger\n",
      "28  :  Rajasabh\n",
      "29  :  Yerappa\n",
      "31  :  Basavaraj.Y.Bajantri\n",
      "32  :  Jabeen basankopa\n",
      "33  :  Mudiyappa talawar\n",
      "34  :  Lakshmi\n",
      "35  :  Sudama hanumappa talwar\n",
      "36  :  Pakirava\n",
      "42  :  Manjavva mudemmagudi\n",
      "43B  :  Ratnavva kammar\n",
      "44  :  Shankargawoda patil\n",
      "47  :  Shilpa mundavad\n",
      "48  :  Eshwarappa madivalr\n",
      "50  :  Shivalika jolad\n",
      "51  :  Sanaverappa mundawad\n",
      "52  :  Eravva mundavad\n",
      "56  :  Eravva katti\n",
      "57  :  Sushila bajammanavr\n",
      "58  :  Nilakatappa bilimagad\n",
      "59  :  Prema lakmapurmath\n",
      "60  :  Basavanemma hallikeri\n",
      "92  :  Manjunath S Korishetter\n",
      "93  :  Prabhayya Pakeerappa Hiremath\n",
      "94  :  Pooja neeralagi\n",
      "95  :  Ankil kumar. Sangati\n",
      "96  :  Savitha pujar\n",
      "97  :  Maliyavva hallikeri\n",
      "98  :  Veerappa bagewadi\n",
      "100  :  Nagamma bangi\n",
      "101  :  Veerappa bagewadi\n",
      "103  :  veerupakshappa gudlyanavar\n",
      "104  :  Raju bagewadi\n",
      "105  :  Suma neelagunad\n",
      "106  :  Maraddy\n",
      "107  :  Geeta mudakanagowder\n",
      "108  :  Netra mudukangoudr\n",
      "109  :  Sharddamma\n",
      "112  :  Basavannappa bagewadi\n",
      "115  :  Geeta bettannavar\n",
      "116  :  Shivakumar bettanavar\n",
      "117B  :  Gangamma banikatti\n",
      "121  :  Shivabasapa byali\n",
      "122  :  Erappa mandhwad\n",
      "124  :  Devakka mandhwad\n",
      "126  :  Rekha angadi\n",
      "127  :  Shilpa hali\n",
      "128  :  Manjula angadi\n",
      "129  :  Hallama\n",
      "131  :  Gowramma sanganal\n",
      "132  :  Eramma angadi\n",
      "133  :  Virupakshpa Vali\n",
      "136  :  Parvati .M. Divatar\n",
      "139  :  Nandamma. J.  Bilimaggad\n",
      "140  :  Mallikarjun. D.  Bilimaggad\n",
      "142  :  Drakshini. D.  Magaladar\n",
      "143  :  Kaveri. V.  Bilimaggad\n",
      "144  :  Kotramma. N.  Madivalar\n",
      "146  :  Janakk. B.  Bilimaggad\n",
      "147  :  Ushala. G.  Madunshetter\n",
      "148  :  Rimdumma Nelekader\n",
      "149  :  Halavva. N.  Mundawad\n",
      "151  :  Nigappa.  V.  Madiwalar\n",
      "152  :  Devappa. M.  Kavalur\n",
      "154  :  Laxmavva. D.  Dumbal\n",
      "155  :  Manjavva. Y.  Bajenari\n",
      "156  :  Rajabi.  J.  Karnachi\n",
      "157  :  Basavaraj. V.  Katti\n",
      "158  :  Man is a bit. K.  Aalur\n",
      "159  :  Like she. E.  Gaji\n",
      "160B  :  Rihanabegum. M.  Aalur\n",
      "161  :  Nagappa Madiwalar\n",
      "162  :  Kuberappa madaeshetar\n",
      "163  :  Veerabhadrappa madivalar\n",
      "164  :  Perma thipanna talvar\n",
      "165  :  Soumya kulkarni\n",
      "166  :  Vimala veeramma revanki\n",
      "168  :  Gaithri kakde\n",
      "169  :  Nagraj sambal\n",
      "170  :  Yamanabi nagarhali\n",
      "171  :  Veerabhadrappa doshger\n",
      "172  :  Parvathi madivalar\n",
      "173  :  Sunita elukoli\n",
      "174  :  Nirmala churchihal\n",
      "175  :  Venkatesh jadar\n",
      "176  :  Hanmava barker\n",
      "177  :  Yallamma jadar\n",
      "178  :  Renavva jadar\n",
      "179  :  Pakiramma jadar\n",
      "180  :  Renavva basappa jader\n",
      "181  :  Nagraj Barker\n",
      "182  :  Mahedevakka jadar\n",
      "183  :  Renamma jadar\n",
      "184  :  Ratavva barker\n",
      "185  :  Savitri barker\n",
      "192  :  Anitha badiger\n",
      "193  :  Rajeshwari\n",
      "194  :  Chenavirappa shettar\n",
      "195  :  Manjula savanali\n",
      "196  :  Shashikala badiger\n",
      "197  :  Shakuntala kulakarni\n",
      "198  :  Sumitra badiger\n",
      "199  :  Premavva arksali\n",
      "200  :  Erravva mandhwad\n",
      "201  :  Devakka arksali\n",
      "202  :  Chidamadha badiger\n",
      "203  :  SHANTAVVA KATTE\n",
      "204B  :  Maradappa Kuri\n",
      "205  :  Parvatavva purad\n",
      "206  :  Lakshamavva purad\n",
      "207  :  Lakshmi mundwad\n",
      "208  :  Lakkavva kuri\n",
      "209  :  Halavagali lakshamavva\n",
      "210  :  Gangamallavva purad\n",
      "211  :  Manjula MUNDWAD\n",
      "212B  :  Iramma kuri\n",
      "213  :  Soubhagya Mundwad\n",
      "214  :  Rudrappa Mundwad\n",
      "215  :  Doddadaappa Mundwad\n",
      "216B  :  Akkamma Mundwad\n",
      "217  :  Netravati Mundwad\n",
      "218  :  Tipavva Mundwad\n",
      "219  :  Nagaraj Mundwad\n",
      "220  :  Iravva Mundwad\n",
      "221  :  Rudrappa Mundwad\n",
      "222  :  Maluyavva Mundwad\n",
      "223  :  Kavita kuri\n",
      "224  :  Anuradha kuri\n",
      "227  :  Yallappa H dambal\n",
      "228  :  Mallava dambala\n",
      "230  :  Irappa honaknalli\n",
      "232  :  Manthesh dambal\n",
      "235  :  Shivappa a dambala\n",
      "236  :  Rudarappa hulavati\n",
      "237B  :  Haalappa\n",
      "238  :  Siddharamappa suli\n",
      "239  :  Basappa .l kori\n",
      "240  :  Shivappa mundargi\n",
      "241  :  Geeta veerappa vittalapura\n",
      "248  :  Laxmi kakde\n",
      "249  :  Biwijaan nagaralli\n",
      "251  :  Mumtaz begum dodmani\n",
      "252  :  Imamsab dodmani\n",
      "253  :  Imambi Dodmani\n",
      "255B  :  Hussensab tashildar\n",
      "256  :  Zafarsabh basankoppa\n",
      "257D  :  Kasimsabh nagaralli\n",
      "258  :  Ashwini doshiger\n",
      "259  :  Santosh doshiger\n",
      "260  :  Laxmamma doshiger\n",
      "261  :  Irappa hanumappa doshiger\n",
      "264  :  Shammanna kakde\n",
      "266  :  Kavita kakde\n",
      "267C  :  Hanumamma bajantri\n",
      "268B  :  Shridhar Doshiger\n",
      "270  :  Renuka doshiger\n",
      "272  :  Nagamma doshiger\n",
      "273  :  Laxmvva R Kakde\n",
      "274  :  Hallava godligar\n",
      "275  :  Dyamanna dishiger\n",
      "277B  :  Iramma bhajentri\n",
      "279  :  Iranna bajentri\n",
      "280B  :  Gouramma banjentri\n",
      "282  :  shivaji bandivaddar\n",
      "283  :  hanumanth bandivaddar\n",
      "285B  :  Shantavva bajentri\n",
      "287  :  Rangamma bandivadar\n",
      "288  :  Gouramma banjentri\n",
      "289B  :  Pakiramma banjentri\n",
      "290B  :  Manjula bajentri\n",
      "291B  :  Savita bhajentri\n",
      "293  :  Shiva bhajentri\n",
      "294  :  Shiva bhajentri\n",
      "295  :  Gudadeerappa Bhajantri\n",
      "296B  :  Madevi Bhajantri\n",
      "297  :  Fakkiresh Ganti\n",
      "299  :  Fakkiresh Bhajantri\n",
      "301  :  Rekha bhajantri\n",
      "303  :  Ramesh Binji\n",
      "306  :  Ningappa Dambal\n",
      "307  :  Renuka Dambal\n",
      "310  :  Fakkiresh Ganti\n",
      "311B  :  Manjunath Talawar\n",
      "312  :  Gangavva Gudasalamani\n",
      "313  :  Devappa Katti\n",
      "314  :  Laxmavva\n",
      "316  :  Hanamavva Ganti\n",
      "317  :  Hanamavva Ganti\n",
      "320  :  Malavva Mundavada\n",
      "321  :  Huligemma Mundawad\n",
      "326  :  Honnamma Mallikeri\n",
      "327  :  Sannaveerappa Shiranalli\n",
      "328  :  Gavishiddappa Shiranalli\n",
      "329  :  Kotragouda patil\n",
      "330  :  Sumitradevi patil\n",
      "331  :  Meelanma kothlappanavar\n",
      "332  :  Kaveri kothlappanavar\n",
      "333B  :  Shivalinga balehosur\n",
      "334  :  Koteppa kothlappanavar\n",
      "336  :  Ningamma balehosur\n",
      "337B  :  Basamma balehosur\n",
      "338  :  Shilpa kalasapur\n",
      "339  :  Gouravva bingi\n",
      "340  :  Rangappa barker\n",
      "341  :  Rangappa kagalar\n",
      "342  :  Yallamma hebbal\n",
      "343  :  Nagamma alur\n",
      "345B  :  Ranavva dambal\n",
      "346  :  Rannavva dambal\n",
      "347B  :  Laxmi manalli\n",
      "348  :  Dyamavva nagarhalli\n",
      "349  :  Akkamma puradar\n",
      "350  :  Hanumanth talwar\n",
      "351B  :  Chandravathi puradar\n",
      "352  :  Veeranna talavar\n",
      "353  :  Annapurna talawar\n",
      "354  :  Pavithra talavar\n",
      "355  :  Jayamma talavar\n",
      "356B  :  Hanumavva kalasapur\n",
      "357  :  Yellamma pujar\n",
      "358  :  Iramma malapur\n",
      "359  :  Pushpa bilimaggad\n",
      "360  :  Savithravva malapur\n",
      "361  :  Rangappa kallasapur\n",
      "362  :  Parvathi talavar\n",
      "363  :  Kalavva talawar\n",
      "364  :  Manjunath kalasapur\n",
      "365  :  Shankrappa kalasapur\n",
      "366  :  Hanumappa talavar\n",
      "367  :  Jayashree pujar\n",
      "369  :  Fakiravva N Olekar\n",
      "371  :  Mudakappa Hanumappa Talawar\n",
      "372  :  Hanamavva kallappa Talawar\n",
      "373  :  Yallamma Basavaraj Anipnavar\n",
      "374B  :  Laxmavva Malatesh Talawar\n",
      "378  :  Shankramma kotreshappa sevanalli\n",
      "380  :  Renuka H Kagallar\n",
      "381B  :  Irappa yammanappa Talwar\n",
      "382B  :  Eramma Rudrappa Karapudi\n",
      "383  :  Durgavva Panchappa Bandivaddar\n",
      "384  :  Devappa D Talawar\n",
      "385  :  Kalavva cholappa Talwar\n",
      "386  :  Savitri Rudrappa kalasapur\n",
      "387  :  Katyappa Madar\n",
      "389B  :  Chandrika Myagalamani\n",
      "390  :  Muniyamma Myagalamani\n",
      "391B  :  Devakka Myagalamani\n",
      "393  :  Renavva Myagalamani\n",
      "394  :  Chandravva Mygeri\n",
      "395  :  Shanta Harijan\n",
      "396C  :  Laxmappa Madar\n",
      "397B  :  Halesh.Wadatti\n",
      "399  :  Parvathamma\n",
      "401C  :  Manjunath\n",
      "402C  :  Neelavva.Dasar\n",
      "409  :  Danadavva\n",
      "410  :  Lakshmi\n",
      "411  :  Devakka\n",
      "412  :  Mariyappa\n",
      "413  :  Savitha\n",
      "414  :  Choudamma\n",
      "416  :  Kavitha\n",
      "417  :  Basavavva\n",
      "418  :  Durgavva\n",
      "419  :  Laxamma\n",
      "420  :  Sharif\n",
      "421  :  Kamalavva\n",
      "423B  :  Annaka\n",
      "424  :  Puttamma\n",
      "425  :  Pushpa\n",
      "426  :  Shekappa\n",
      "427  :  Malappa\n",
      "428  :  Savitri\n",
      "429  :  Prakash\n",
      "430  :  Jagesh\n",
      "431  :  Nagavva\n",
      "432  :  Sannatangihavva\n",
      "433  :  Kusuma pujar\n",
      "434  :  Kottappa\n",
      "435  :  Devakka\n",
      "437  :  Parimala\n",
      "439  :  Dandappa\n",
      "440  :  Malavva\n",
      "93B  :  Paramma V Marulhiremath\n",
      "43  :  Ratnavva kammar\n",
      "433B  :  Chandrappa\n",
      "431B  :  Bhoomika\n",
      "423  :  Iravva\n",
      "423C  :  Raju\n",
      "419B  :  Rindavva\n",
      "412B  :  Kamalavva\n",
      "402  :  Mylavva\n",
      "402B  :  Nagrathna\n",
      "401D  :  Mangala\n",
      "401B  :  Chandrappa\n",
      "401  :  Renavva\n",
      "397C  :  Savitri\n",
      "397  :  Durgavva.Pujari\n",
      "396B  :  Shantamappa Madar\n",
      "396  :  Shantamappa Madar\n",
      "395B  :  Sunanda Harijan\n",
      "394B  :  Chandravva Myageri\n",
      "393B  :  Renavva Myagalamani\n",
      "391C  :  Devakka Myagalamani\n",
      "391  :  Devakka Myagalamani\n",
      "390B  :  Muniyamma Myagalamni\n",
      "389  :  Chandrika Myagalamani\n",
      "387B  :  Katyappa Madar\n",
      "382  :  Shivagangavva Erappa Pujar\n",
      "381D  :  Suresh Pakkirappa Talwar\n",
      "381C  :  Manjappa p Talwar\n",
      "381  :  Uma Shivaraj Talwar\n",
      "374  :  Vimalaxavva D Talwar\n",
      "371B  :  Mudiyappa Talawar\n",
      "356  :  Lakshmava talavar\n",
      "351  :  Devappa puradh\n",
      "351C  :  Devappa puradar\n",
      "350B  :  Hanumanth talavar\n",
      "348C  :  Mudiyappa meti\n",
      "348B  :  Lalita nagarahalli\n",
      "347  :  Basamma sovanali\n",
      "347C  :  Laxmi manalli\n",
      "347E  :  Hanumavva kagnor\n",
      "347F  :  Iravva manalli\n",
      "347D  :  Manjula kagnoor\n",
      "345  :  Renavva alur\n",
      "337  :  Rudrappa balehosur\n",
      "334B  :  Channappa kothlappanavar\n",
      "333  :  Prabhugouda patil\n",
      "327B  :  Doddaveerappa Shiranalli\n",
      "311  :  Ramesh valmiki\n",
      "310B  :  Huligemma udachannavar\n",
      "296  :  Vijayalaxmi Bhajantri\n",
      "291  :  Lalita bajentri\n",
      "290  :  Thippanna bajentri\n",
      "289  :  iramma bhajentri\n",
      "287E  :  akkamma bandivaddar\n",
      "287B  :  durgamma bandivaddar\n",
      "287C  :  Rangamma bandivadar\n",
      "287D  :  Durgamma bandivadar\n",
      "285  :  Sharavva banjentri\n",
      "280  :  Vidya bhajentri\n",
      "277  :  Ningappa bavi\n",
      "277C  :  Pakiresh bajentri\n",
      "268  :  Netra Suresh kakde\n",
      "267  :  Nagamma doshiger\n",
      "267B  :  Durgappa V kakde\n",
      "258B  :  Savitravva parge\n",
      "257  :  Shamshad begum nagaralli\n",
      "257E  :  Anjuma nagaralli\n",
      "257B  :  Merunbi nagaralli\n",
      "257C  :  Nasrin nagaralli\n",
      "255  :  Chandsab tashildar\n",
      "248B  :  Shakuntala doshiger\n",
      "237  :  Doddaverappa kombli\n",
      "216  :  Lakshmavva Mundwad\n",
      "214B  :  Santosh Mundwad\n",
      "212  :  NINGAPPA kuri\n",
      "208B  :  Mailarappa kuri\n",
      "204  :  Parasappa Halavagali\n",
      "204C  :  Suresh Halavagali\n",
      "18  :  Verupakshappa jadar\n",
      "160  :  Shavakka. Madiwaler\n",
      "129B  :  Hallama\n",
      "117  :  Ruddramma kalsannavar\n",
      "117C  :  Devakka kalsannavar\n",
      "117D  :  Neelamma kalsanavar\n",
      "116B  :  Shrikanth bettannavar\n",
      "110  :  Veerappa bagewadi\n",
      "100B  :  Veerappa bagewadi\n",
      "262  :  Veerappa bagewadi\n"
     ]
    }
   ],
   "source": [
    "for row in rows:\n",
    "    if(row[1] == ' '):\n",
    "         pass\n",
    "    else:\n",
    "        print(row[0],' : ',row[1])\n",
    "        \n",
    "del rows"
   ]
  },
  {
   "cell_type": "code",
   "execution_count": 103,
   "metadata": {},
   "outputs": [],
   "source": [
    "rows = arcpy.da.SearchCursor(data,['PropertyNo','Ow_Name','HH_Member','Category'])"
   ]
  },
  {
   "cell_type": "code",
   "execution_count": 104,
   "metadata": {},
   "outputs": [
    {
     "name": "stdout",
     "output_type": "stream",
     "text": [
      "303  :  Ramesh Binji  :  14  :  ST\n"
     ]
    }
   ],
   "source": [
    "for row in rows:\n",
    "    if(row[1] == ' '):\n",
    "         pass\n",
    "    elif(row[1] == 'Ramesh Binji'):\n",
    "        print(row[0],' : ',row[1],' : ',row[2],' : ',row[3])\n",
    "        \n",
    "del rows"
   ]
  },
  {
   "cell_type": "code",
   "execution_count": 105,
   "metadata": {},
   "outputs": [
    {
     "name": "stdout",
     "output_type": "stream",
     "text": [
      "364\n",
      "418  :\t  (75.88517777953565, 15.068578115648643)  :\t  420  :\t  2  :\t  Sharif  :\t  Male\n",
      "470  :\t  (75.88571332626458, 15.068985265467472)  :\t  381  :\t  3  :\t  Uma Shivaraj Talwar  :\t  Female\n"
     ]
    }
   ],
   "source": [
    "rows = arcpy.da.SearchCursor(data,\"*\",\"HH_Member = '10'\")\n",
    "row = rows.next()\n",
    "row[0]\n",
    "#row[1]\n",
    "print(row[0])\n",
    "for row in rows:\n",
    "    print(row[0],' :\\t ',row[1],' :\\t ',row[3],' :\\t ',row[5],' :\\t ',row[6],' :\\t ',row[7])\n",
    "    \n",
    "#del(rows)"
   ]
  },
  {
   "cell_type": "code",
   "execution_count": 113,
   "metadata": {},
   "outputs": [],
   "source": [
    "lst =[]\n",
    "for fild in fields:\n",
    "    a = fild.name\n",
    "    lst.append(a)\n",
    "lstno = lst[3]\n"
   ]
  },
  {
   "cell_type": "code",
   "execution_count": 128,
   "metadata": {},
   "outputs": [
    {
     "data": {
      "text/plain": [
       "\"PropertyNo < '100'\""
      ]
     },
     "execution_count": 128,
     "metadata": {},
     "output_type": "execute_result"
    }
   ],
   "source": [
    "query = \"{0} < '100'\".format(lstno)\n",
    "query"
   ]
  },
  {
   "cell_type": "code",
   "execution_count": 133,
   "metadata": {},
   "outputs": [
    {
     "name": "stdout",
     "output_type": "stream",
     "text": [
      "1\n",
      "10\n"
     ]
    }
   ],
   "source": [
    "rows = arcpy.da.SearchCursor(data,[lstno],query)\n",
    "#row=rows.next()\n",
    "#row[0]\n",
    "for row in rows:\n",
    "    print(row[0])"
   ]
  },
  {
   "cell_type": "code",
   "execution_count": 2,
   "metadata": {},
   "outputs": [],
   "source": [
    "import arcpy\n",
    "import os\n",
    "from arcpy import env\n",
    "env.workspace = r'D:\\tmep'"
   ]
  },
  {
   "cell_type": "code",
   "execution_count": 4,
   "metadata": {},
   "outputs": [],
   "source": [
    "data = r\"D:\\tmep\\Properties_with_HH.shp\""
   ]
  },
  {
   "cell_type": "code",
   "execution_count": 11,
   "metadata": {},
   "outputs": [],
   "source": [
    "rows = arcpy.da.SearchCursor(data,['Category'])\n",
    "\n",
    "myDic ={}\n",
    "\n",
    "for row in rows:\n",
    "    key = row[0]\n",
    "    if key in myDic:\n",
    "        myDic[key] = myDic[key]+1\n",
    "    else:\n",
    "        myDic[key]=1\n",
    "del rows"
   ]
  },
  {
   "cell_type": "code",
   "execution_count": 12,
   "metadata": {},
   "outputs": [
    {
     "name": "stdout",
     "output_type": "stream",
     "text": [
      "{'ST': 65, 'GM': 37, 'OBC': 196, 'SC': 93, ' ': 138, 'EWS': 1}\n"
     ]
    }
   ],
   "source": [
    "print(myDic)"
   ]
  },
  {
   "cell_type": "code",
   "execution_count": 17,
   "metadata": {},
   "outputs": [],
   "source": [
    "rows = arcpy.da.SearchCursor(data,['HH_Member'])\n",
    "\n",
    "myDic ={}\n",
    "\n",
    "for row in rows:\n",
    "    key = row[0]\n",
    "    if key in myDic:\n",
    "        myDic[key] = myDic[key]+1\n",
    "    else:\n",
    "        myDic[key]=1\n",
    "del rows"
   ]
  },
  {
   "cell_type": "code",
   "execution_count": 18,
   "metadata": {},
   "outputs": [
    {
     "name": "stdout",
     "output_type": "stream",
     "text": [
      "{'5': 88, '3': 62, '6': 45, '8': 14, '2': 30, '4': 101, ' ': 138, '14': 3, '7': 16, '1': 14, '13': 3, '19': 1, '9': 6, '12': 1, '18': 1, '11': 1, '20': 3, '10': 3}\n"
     ]
    }
   ],
   "source": [
    "print(myDic)"
   ]
  },
  {
   "cell_type": "code",
   "execution_count": 28,
   "metadata": {},
   "outputs": [
    {
     "name": "stdout",
     "output_type": "stream",
     "text": [
      "{'Valmiki': 59, 'Reddy': 8, 'Kurubaru': 100, 'Lingayat': 41, ' ': 138, 'Nekar': 8, 'Banagigaru': 2, 'Muslim': 20, 'Badiger': 5, 'Talwar': 5, 'Gondali': 22, 'Kuruvinashetty': 1, 'Arer': 2, 'Swamiyar': 1, 'Panchamasali': 8, 'Adibanigiger': 1, 'Barker': 5, 'Shetar': 1, 'Madivalar': 2, 'Bhraman': 1, 'Jadar': 1, 'Vishwakrma': 1, 'Bhajantri': 1, 'Korvar': 19, 'bhovi': 4, 'Vaddar': 3, 'Korama': 3, 'Halamatha': 2, 'Besta': 1, 'Harijan': 27, 'Madara': 36, 'Nayak': 1, 'Kshatriya': 1}\n"
     ]
    }
   ],
   "source": [
    "rows = arcpy.da.SearchCursor(data,['Cast'])\n",
    "\n",
    "myDic ={}\n",
    "\n",
    "for row in rows:\n",
    "    key = row[0]\n",
    "    if key in myDic:\n",
    "        myDic[key] = myDic[key]+1\n",
    "    else:\n",
    "        myDic[key]=1\n",
    "del rows\n",
    "print(myDic)"
   ]
  },
  {
   "cell_type": "code",
   "execution_count": 23,
   "metadata": {},
   "outputs": [
    {
     "name": "stdout",
     "output_type": "stream",
     "text": [
      "100\n"
     ]
    }
   ],
   "source": [
    "rows = arcpy.da.SearchCursor(data,['Cast'])\n",
    "count = 0\n",
    "for row in rows:\n",
    "    if(row[0] == 'Kurubaru'):\n",
    "        count +=1\n",
    "        #print(row[0])\n",
    "print(count)"
   ]
  },
  {
   "cell_type": "code",
   "execution_count": 33,
   "metadata": {},
   "outputs": [
    {
     "name": "stdout",
     "output_type": "stream",
     "text": [
      "Valmiki : 59\n",
      "Reddy : 8\n",
      "Kurubaru : 100\n",
      "Lingayat : 41\n",
      "  : 138\n",
      "Nekar : 8\n",
      "Banagigaru : 2\n",
      "Muslim : 20\n",
      "Badiger : 5\n",
      "Talwar : 5\n",
      "Gondali : 22\n",
      "Kuruvinashetty : 1\n",
      "Arer : 2\n",
      "Swamiyar : 1\n",
      "Panchamasali : 8\n",
      "Adibanigiger : 1\n",
      "Barker : 5\n",
      "Shetar : 1\n",
      "Madivalar : 2\n",
      "Bhraman : 1\n",
      "Jadar : 1\n",
      "Vishwakrma : 1\n",
      "Bhajantri : 1\n",
      "Korvar : 19\n",
      "bhovi : 4\n",
      "Vaddar : 3\n",
      "Korama : 3\n",
      "Halamatha : 2\n",
      "Besta : 1\n",
      "Harijan : 27\n",
      "Madara : 36\n",
      "Nayak : 1\n",
      "Kshatriya : 1\n"
     ]
    }
   ],
   "source": [
    "rows = arcpy.da.SearchCursor(data,['Cast'])\n",
    "\n",
    "myDic ={}\n",
    "\n",
    "for row in rows:\n",
    "    key = row[0]\n",
    "    if key in myDic:\n",
    "        myDic[key] = myDic[key]+1\n",
    "    else:\n",
    "        myDic[key]=1\n",
    "del rows\n",
    "\n",
    "j = []\n",
    "for x,y in myDic.items():\n",
    "    print(x,':',y)\n",
    "    z = x , y\n",
    "    j.append(z)"
   ]
  },
  {
   "cell_type": "code",
   "execution_count": 34,
   "metadata": {
    "scrolled": true
   },
   "outputs": [
    {
     "name": "stdout",
     "output_type": "stream",
     "text": [
      "[('Valmiki', 59), ('Reddy', 8), ('Kurubaru', 100), ('Lingayat', 41), (' ', 138), ('Nekar', 8), ('Banagigaru', 2), ('Muslim', 20), ('Badiger', 5), ('Talwar', 5), ('Gondali', 22), ('Kuruvinashetty', 1), ('Arer', 2), ('Swamiyar', 1), ('Panchamasali', 8), ('Adibanigiger', 1), ('Barker', 5), ('Shetar', 1), ('Madivalar', 2), ('Bhraman', 1), ('Jadar', 1), ('Vishwakrma', 1), ('Bhajantri', 1), ('Korvar', 19), ('bhovi', 4), ('Vaddar', 3), ('Korama', 3), ('Halamatha', 2), ('Besta', 1), ('Harijan', 27), ('Madara', 36), ('Nayak', 1), ('Kshatriya', 1)]\n"
     ]
    }
   ],
   "source": [
    "print(j)"
   ]
  },
  {
   "cell_type": "code",
   "execution_count": 35,
   "metadata": {},
   "outputs": [
    {
     "name": "stdout",
     "output_type": "stream",
     "text": [
      "('Valmiki', 59)\n",
      "('Reddy', 8)\n",
      "('Kurubaru', 100)\n",
      "('Lingayat', 41)\n",
      "(' ', 138)\n",
      "('Nekar', 8)\n",
      "('Banagigaru', 2)\n",
      "('Muslim', 20)\n",
      "('Badiger', 5)\n",
      "('Talwar', 5)\n",
      "('Gondali', 22)\n",
      "('Kuruvinashetty', 1)\n",
      "('Arer', 2)\n",
      "('Swamiyar', 1)\n",
      "('Panchamasali', 8)\n",
      "('Adibanigiger', 1)\n",
      "('Barker', 5)\n",
      "('Shetar', 1)\n",
      "('Madivalar', 2)\n",
      "('Bhraman', 1)\n",
      "('Jadar', 1)\n",
      "('Vishwakrma', 1)\n",
      "('Bhajantri', 1)\n",
      "('Korvar', 19)\n",
      "('bhovi', 4)\n",
      "('Vaddar', 3)\n",
      "('Korama', 3)\n",
      "('Halamatha', 2)\n",
      "('Besta', 1)\n",
      "('Harijan', 27)\n",
      "('Madara', 36)\n",
      "('Nayak', 1)\n",
      "('Kshatriya', 1)\n"
     ]
    }
   ],
   "source": [
    "for l in j:\n",
    "    print(l)"
   ]
  }
 ],
 "metadata": {
  "kernelspec": {
   "display_name": "Python 3",
   "language": "python",
   "name": "python3"
  },
  "language_info": {
   "codemirror_mode": {
    "name": "ipython",
    "version": 3
   },
   "file_extension": ".py",
   "mimetype": "text/x-python",
   "name": "python",
   "nbconvert_exporter": "python",
   "pygments_lexer": "ipython3",
   "version": "3.6.9"
  }
 },
 "nbformat": 4,
 "nbformat_minor": 2
}
