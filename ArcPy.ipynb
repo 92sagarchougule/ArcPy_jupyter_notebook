{
 "cells": [
  {
   "cell_type": "code",
   "execution_count": 1,
   "metadata": {},
   "outputs": [],
   "source": [
    "import arcpy\n",
    "data = r'E:\\Village_Mapping\\Shingtaluru\\Shapefile\\Properties_with_HH.shp'\n",
    "fcount = arcpy.management.GetCount(data)"
   ]
  },
  {
   "cell_type": "code",
   "execution_count": 2,
   "metadata": {},
   "outputs": [],
   "source": [
    "fc = arcpy.ListFields(data)"
   ]
  },
  {
   "cell_type": "code",
   "execution_count": 4,
   "metadata": {},
   "outputs": [
    {
     "name": "stdout",
     "output_type": "stream",
     "text": [
      "1 . FID\n",
      "2 . Shape\n",
      "3 . Name\n",
      "4 . PropertyNo\n",
      "5 . Date\n",
      "6 . Ward\n",
      "7 . Ow_Name\n",
      "8 . Gender\n",
      "9 . infoGave\n",
      "10 . HH_Member\n",
      "11 . gotFrom\n",
      "12 . Category\n",
      "13 . Panth\n",
      "14 . Cast\n",
      "15 . Sampraday\n",
      "16 . Religion\n",
      "17 . SubReligio\n",
      "18 . OwnHouse\n",
      "19 . Rent\n",
      "20 . TypeHouse\n",
      "21 . Att_Toilet\n",
      "22 . Drain_Conn\n",
      "23 . Waste_Coll\n",
      "24 . Compost\n",
      "25 . BioGass\n",
      "26 . Cook_By\n",
      "27 . Hot_Water\n",
      "28 . Grain_Vege\n",
      "29 . Qlty_Water\n",
      "30 . Food_Organ\n",
      "31 . Land_Area\n",
      "32 . Farming_ty\n",
      "33 . Dessi_Caw\n",
      "34 . Fertilizer\n",
      "35 . Irrigation\n",
      "36 . Sys_Irriga\n",
      "37 . Crop_Type\n",
      "38 . Crop_Seaso\n",
      "39 . No_of_Caw\n",
      "40 . No_of_Buff\n",
      "41 . No_of_Goat\n",
      "42 . No_of_Shee\n",
      "43 . Poultry\n",
      "44 . Piggry\n",
      "45 . Migration\n",
      "46 . No_Migrati\n",
      "47 . Day_Migrat\n",
      "48 . year_Migra\n",
      "49 . Income\n",
      "50 . HH_Num\n",
      "51 . F_Name\n",
      "52 . Area_\n",
      "53 . Pop_\n",
      "54 . Nun\n"
     ]
    }
   ],
   "source": [
    "g = 0\n",
    "for f in fc:\n",
    "    g+=1\n",
    "    print(g,'.',f.name)"
   ]
  },
  {
   "cell_type": "code",
   "execution_count": 5,
   "metadata": {},
   "outputs": [
    {
     "name": "stdout",
     "output_type": "stream",
     "text": [
      "1  :  ST  :  Hut  :  Yes  :  No  :  Purchase  :  LPG  :  No  :  Hut\n",
      "2  :  GM  :  RCC-Single floor  :  Yes  :  No  :  Purchase  :  LPG  :  No  :  RCC-Single floor\n",
      "3  :  ST  :  RCC-Single floor  :  Yes  :  Yes  :  Purchase  :  LPG  :  Yes  :  RCC-Single floor\n",
      "4  :  ST  :  Traditional tiles/black tiles  :  Yes  :  No  :  Purchase  :  LPG  :  Yes  :  Traditional tiles/black tiles\n",
      "5  :  OBC  :  Traditional tiles/black tiles  :  Yes  :  No  :  Purchase  :  LPG  :  No  :  Traditional tiles/black tiles\n",
      "6  :  SC  :  RCC-Single floor  :  Yes  :  No  :  Inhouse  :  LPG  :  Yes  :  RCC-Single floor\n",
      "7  :  SC  :  RCC-Single floor  :  Yes  :  No  :  Purchase  :  LPG  :  Yes  :  RCC-Single floor\n",
      "8  :  ST  :  Tent  :  Yes  :  No  :  Purchase  :  LPG  :  No  :  Tent\n",
      "9  :  OBC  :  RCC-Single floor  :  Yes  :  No  :  Purchase  :  LPG  :  No  :  RCC-Single floor\n",
      "10  :  OBC  :  Mangalore tiles  :  No  :  No  :  Purchase  :  LPG  :  No  :  Mangalore tiles\n",
      "11  :  OBC  :  Traditional tiles/black tiles  :  Yes  :  No  :  Purchase  :  LPG  :  No  :  Traditional tiles/black tiles\n",
      "12  :  OBC  :  RCC-Single floor  :  Yes  :  No  :  Purchase  :  LPG  :  Yes  :  RCC-Single floor\n",
      "13  :  OBC  :  Traditional tiles/black tiles  :  Yes  :  No  :  Inhouse  :  LPG  :  No  :  Traditional tiles/black tiles\n",
      "15  :  OBC  :  Mangalore tiles  :  No  :  No  :  Purchase  :  LPG  :  No  :  Mangalore tiles\n",
      "16  :  OBC  :  RCC-Single floor  :  Yes  :  No  :  Purchase  :  LPG  :  No  :  RCC-Single floor\n",
      "18B  :  OBC  :  RCC-Single floor  :  Yes  :  No  :  Inhouse  :  LPG  :  Yes  :  RCC-Single floor\n",
      "19  :  GM  :  Mangalore tiles  :  Yes  :  No  :  Purchase  :  LPG  :  Yes  :  Mangalore tiles\n",
      "21  :  OBC  :  Traditional tiles/black tiles  :  Yes  :  No  :  Purchase  :  LPG  :  Yes  :  Traditional tiles/black tiles\n",
      "23  :  OBC  :  Traditional tiles/black tiles  :  Yes  :  No  :  Purchase  :  LPG  :  No  :  Traditional tiles/black tiles\n",
      "24  :  OBC  :  RCC-Single floor  :  Yes  :  No  :  Purchase  :  LPG  :  Yes  :  RCC-Single floor\n",
      "26  :  OBC  :  RCC-Single floor  :  Yes  :  No  :  Purchase  :  LPG  :  Yes  :  RCC-Single floor\n",
      "27  :  OBC  :  Traditional tiles/black tiles  :  Yes  :  No  :  Purchase  :  LPG  :  Yes  :  Traditional tiles/black tiles\n",
      "28  :  OBC  :  Traditional tiles/black tiles  :  Yes  :  No  :  Purchase  :  LPG  :  No  :  Traditional tiles/black tiles\n",
      "29  :  OBC  :  RCC-Single floor  :  Yes  :  No  :  Purchase  :  LPG  :  No  :  RCC-Single floor\n",
      "31  :  SC  :  Traditional tiles/black tiles  :  Yes  :  No  :  Purchase  :  LPG  :  No  :  Traditional tiles/black tiles\n",
      "32  :  OBC  :  Traditional tiles/black tiles  :  Yes  :  No  :  Purchase  :  LPG  :  Yes  :  Traditional tiles/black tiles\n",
      "33  :  ST  :  RCC-Single floor  :  Yes  :  No  :  Purchase  :  LPG  :  Yes  :  RCC-Single floor\n",
      "34  :  OBC  :  RCC-Single floor  :  Yes  :  No  :  Purchase  :  LPG  :  Yes  :  RCC-Single floor\n",
      "35  :  ST  :  Hut  :  Yes  :  No  :  Purchase  :  LPG  :  No  :  Hut\n",
      "36  :  OBC  :  RCC-Single floor  :  Yes  :  No  :  Purchase  :  LPG  :  Yes  :  RCC-Single floor\n",
      "42  :  OBC  :  Hut  :  Yes  :  No  :  Not Applicable  :  LPG  :  Yes  :  Hut\n",
      "43B  :  OBC  :  Hut  :  Yes  :  Yes  :  Not Applicable  :  LPG  :  No  :  Hut\n",
      "44  :  OBC  :  RCC-Single floor  :  Yes  :  Yes  :  Purchase  :  LPG  :  Yes  :  RCC-Single floor\n",
      "47  :  OBC  :  Hut  :  Yes  :  No  :  Purchase  :  LPG  :  Yes  :  Hut\n",
      "48  :  OBC  :  RCC-Single floor  :  Yes  :  Yes  :  Purchase  :  LPG  :  Yes  :  RCC-Single floor\n",
      "50  :  OBC  :  Hut  :  Yes  :  No  :  Not Applicable  :  LPG  :  No  :  Hut\n",
      "51  :  OBC  :  Hut  :  Yes  :  No  :  Purchase  :  LPG  :  No  :  Hut\n",
      "52  :  OBC  :  Hut  :  Yes  :  No  :  Purchase  :  LPG  :  No  :  Hut\n",
      "56  :  OBC  :  Hut  :  Yes  :  No  :  Not Applicable  :  Wood  :  No  :  Hut\n",
      "57  :  OBC  :  RCC-Single floor  :  Yes  :  No  :  Not Applicable  :  LPG  :  Yes  :  RCC-Single floor\n",
      "58  :  OBC  :  Hut  :  Yes  :  No  :  Purchase  :  LPG  :  No  :  Hut\n",
      "59  :  GM  :  Hut  :  Yes  :  Yes  :  Purchase  :  LPG  :  No  :  Hut\n",
      "60  :  GM  :  RCC-Single floor  :  Yes  :  No  :  Purchase  :  LPG  :  No  :  RCC-Single floor\n",
      "92  :  OBC  :  Traditional tiles/black tiles  :  Yes  :  No  :  Purchase  :  LPG  :  Yes  :  Traditional tiles/black tiles\n",
      "93  :  OBC  :  Traditional tiles/black tiles  :  Yes  :  No  :  Purchase  :  LPG  :  Yes  :  Traditional tiles/black tiles\n",
      "94  :  GM  :  Traditional tiles/black tiles  :  Yes  :  No  :  Purchase  :  LPG  :  Yes  :  Traditional tiles/black tiles\n",
      "95  :  GM  :  Traditional tiles/black tiles  :  Yes  :  No  :  Not Applicable  :  LPG  :  Yes  :  Traditional tiles/black tiles\n",
      "96  :  GM  :  RCC-Single floor  :  Yes  :  No  :  Purchase  :  LPG  :  Yes  :  RCC-Single floor\n",
      "97  :  ST  :  Tent  :  Yes  :  Yes  :  Purchase  :  Wood  :  No  :  Tent\n",
      "98  :  GM  :  RCC-Single floor  :  Yes  :  No  :  Purchase  :  LPG  :  Yes  :  RCC-Single floor\n",
      "100  :  ST  :  Tent  :  Yes  :  No  :  Purchase  :  LPG  :  No  :  Tent\n",
      "101  :  GM  :  Tent  :  Yes  :  No  :  Purchase  :  LPG  :  No  :  Tent\n",
      "103  :  GM  :  Traditional tiles/black tiles  :  Yes  :  No  :  Purchase  :  LPG  :  Yes  :  Traditional tiles/black tiles\n",
      "104  :  GM  :  RCC-Single floor  :  Yes  :  No  :  Purchase  :  LPG  :  Yes  :  RCC-Single floor\n",
      "105  :  GM  :  RCC-Single floor  :  Yes  :  No  :  Purchase  :  LPG  :  Yes  :  RCC-Single floor\n",
      "106  :  GM  :  RCC-Single floor  :  Yes  :  No  :  Purchase  :  LPG  :  Yes  :  RCC-Single floor\n",
      "107  :  GM  :  RCC-Single floor  :  Yes  :  No  :  Purchase  :  LPG  :  Yes  :  RCC-Single floor\n",
      "108  :  GM  :  RCC-Single floor  :  Yes  :  No  :  Purchase  :  LPG  :  No  :  RCC-Single floor\n",
      "109  :  GM  :  RCC-Single floor  :  Yes  :  Yes  :  Not Applicable  :  LPG  :  Yes  :  RCC-Single floor\n",
      "112  :  GM  :  RCC-Single floor  :  Yes  :  No  :  Purchase  :  LPG  :  Yes  :  RCC-Single floor\n",
      "115  :  GM  :  RCC-Single floor  :  Yes  :  No  :  Purchase  :  LPG  :  Yes  :  RCC-Single floor\n",
      "116  :  GM  :  RCC-Single floor  :  Yes  :  No  :  Purchase  :  LPG  :  Yes  :  RCC-Single floor\n",
      "117B  :  GM  :  Traditional tiles/black tiles  :  Yes  :  No  :  Purchase  :  LPG  :  Yes  :  Traditional tiles/black tiles\n",
      "121  :  OBC  :  Tent  :  Yes  :  No  :  Not Applicable  :  LPG  :  Yes  :  Tent\n",
      "122  :  OBC  :  Tent  :  Yes  :  No  :  Not Applicable  :  Wood  :  No  :  Tent\n",
      "124  :  OBC  :  Tent  :  Yes  :  Yes  :  Purchase  :  LPG  :  Yes  :  Tent\n",
      "126  :  OBC  :  Mangalore tiles  :  Yes  :  No  :  Not Applicable  :  LPG  :  No  :  Mangalore tiles\n",
      "127  :  OBC  :  Mangalore tiles  :  Yes  :  No  :  Not Applicable  :  LPG  :  Yes  :  Mangalore tiles\n",
      "128  :  OBC  :  Tent  :  Yes  :  No  :  Purchase  :  LPG  :  Yes  :  Tent\n",
      "129  :  OBC  :  Tent  :  Yes  :  Yes  :  Purchase  :  LPG  :  Yes  :  Tent\n",
      "131  :  OBC  :  Mangalore tiles  :  Yes  :  No  :  Purchase  :  LPG  :  Yes  :  Mangalore tiles\n",
      "132  :  OBC  :  Hut  :  Yes  :  No  :  Not Applicable  :  LPG  :  No  :  Hut\n",
      "133  :  OBC  :  RCC-Single floor  :  Yes  :  No  :  Purchase  :  LPG  :  Yes  :  RCC-Single floor\n",
      "136  :  OBC  :  RCC-Single floor  :  Yes  :  No  :  Purchase  :  LPG  :  No  :  RCC-Single floor\n",
      "139  :  OBC  :  RCC- Multi floor  :  Yes  :  No  :  Purchase  :  LPG  :  Yes  :  RCC- Multi floor\n",
      "140  :  OBC  :  Tent  :  Yes  :  No  :  Purchase  :  LPG  :  Yes  :  Tent\n",
      "142  :  OBC  :  Tent  :  Yes  :  No  :  Purchase  :  LPG  :  Yes  :  Tent\n",
      "143  :  OBC  :  Hut  :  Yes  :  No  :  Purchase  :  LPG  :  Yes  :  Hut\n",
      "144  :  OBC  :  Tent  :  Yes  :  No  :  Purchase  :  LPG  :  Yes  :  Tent\n",
      "146  :  OBC  :  Tent  :  Yes  :  No  :  Purchase  :  LPG  :  No  :  Tent\n",
      "147  :  OBC  :  Tent  :  Yes  :  No  :  Not Applicable  :  LPG  :  No  :  Tent\n",
      "148  :  OBC  :  Tent  :  No  :  No  :  Purchase  :  LPG  :  No  :  Tent\n",
      "149  :  OBC  :  Tent  :  Yes  :  No  :  Purchase  :  LPG  :  No  :  Tent\n",
      "151  :  OBC  :  Tent  :  Yes  :  No  :  Purchase  :  LPG  :  Yes  :  Tent\n",
      "152  :  OBC  :  Tent  :  Yes  :  No  :  Not Applicable  :  Wood  :  No  :  Tent\n",
      "154  :  GM  :  Tent  :  Yes  :  No  :  Purchase  :  LPG  :  No  :  Tent\n",
      "155  :  GM  :  Tent  :  Yes  :  No  :  Not Applicable  :  Wood  :  No  :  Tent\n",
      "156  :  OBC  :  Tent  :  Yes  :  No  :  Not Applicable  :  LPG  :  No  :  Tent\n",
      "157  :  OBC  :  Tent  :  Yes  :  No  :  Not Applicable  :  Wood  :  No  :  Tent\n",
      "158  :  OBC  :  Tent  :  Yes  :  No  :  Not Applicable  :  LPG  :  No  :  Tent\n",
      "159  :  OBC  :  Tent  :  Yes  :  No  :  Purchase  :  LPG  :  Yes  :  Tent\n",
      "160B  :  OBC  :  Tent  :  Yes  :  No  :  Not Applicable  :  LPG  :  No  :  Tent\n",
      "161  :  OBC  :  RCC-Single floor  :  Yes  :  Yes  :  Purchase  :  LPG  :  Yes  :  RCC-Single floor\n",
      "162  :  OBC  :  Tent  :  No  :  No  :  Purchase  :  LPG  :  Yes  :  Tent\n",
      "163  :  OBC  :  Tent  :  Yes  :  No  :  Not Applicable  :  Wood  :  No  :  Tent\n",
      "164  :  ST  :  RCC-Single floor  :  Yes  :  No  :  Inhouse  :  LPG  :  Yes  :  RCC-Single floor\n",
      "165  :  GM  :  RCC-Single floor  :  No  :  No  :  Not Applicable  :  LPG  :  Yes  :  RCC-Single floor\n",
      "166  :  ST  :  RCC-Single floor  :  Yes  :  No  :  Not Applicable  :  LPG  :  Yes  :  RCC-Single floor\n",
      "168  :  OBC  :  Tent  :  Yes  :  Yes  :  Not Applicable  :  LPG  :  Yes  :  Tent\n",
      "169  :  GM  :  RCC-Single floor  :  Yes  :  No  :  Purchase  :  LPG  :  Yes  :  RCC-Single floor\n",
      "170  :  EWS  :  Tent  :  Yes  :  No  :  Purchase  :  Wood  :  Yes  :  Tent\n",
      "171  :  OBC  :  Tent  :  Yes  :  No  :  Not Applicable  :  Wood  :  Yes  :  Tent\n",
      "172  :  OBC  :  Tent  :  Yes  :  No  :  Purchase  :  Wood  :  No  :  Tent\n",
      "173  :  OBC  :  RCC-Single floor  :  Yes  :  Yes  :  Not Applicable  :  LPG  :  Yes  :  RCC-Single floor\n",
      "174  :  OBC  :  RCC-Single floor  :  Yes  :  No  :  Not Applicable  :  LPG  :  Yes  :  RCC-Single floor\n",
      "175  :  OBC  :  RCC-Single floor  :  Yes  :  No  :  Purchase  :  LPG  :  Yes  :  RCC-Single floor\n",
      "176  :  OBC  :  Tent  :  Yes  :  No  :  Purchase  :  LPG  :  No  :  Tent\n",
      "177  :  OBC  :  RCC-Single floor  :  Yes  :  No  :  Purchase  :  LPG  :  Yes  :  RCC-Single floor\n",
      "178  :  OBC  :  Hut  :  Yes  :  No  :  Purchase  :  LPG  :  Yes  :  Hut\n",
      "179  :  OBC  :  Tent  :  Yes  :  Yes  :  Not Applicable  :  LPG  :  Yes  :  Tent\n",
      "180  :  OBC  :  RCC-Single floor  :  Yes  :  No  :  Inhouse  :  LPG  :  Yes  :  RCC-Single floor\n",
      "181  :  OBC  :  RCC-Single floor  :  Yes  :  Yes  :  Purchase  :  LPG  :  Yes  :  RCC-Single floor\n",
      "182  :  OBC  :  Tent  :  Yes  :  No  :  Purchase  :  LPG  :  No  :  Tent\n",
      "183  :  OBC  :  Tent  :  Yes  :  No  :  Purchase  :  LPG  :  Yes  :  Tent\n",
      "184  :  OBC  :  Hut  :  No  :  No  :  Not Applicable  :  LPG  :  No  :  Hut\n",
      "185  :  OBC  :  RCC-Single floor  :  Yes  :  No  :  Not Applicable  :  LPG  :  No  :  RCC-Single floor\n",
      "192  :  OBC  :  RCC-Single floor  :  Yes  :  No  :  Purchase  :  LPG  :  Yes  :  RCC-Single floor\n",
      "193  :  OBC  :  Tent  :  No  :  No  :  Purchase  :  LPG  :  No  :  Tent\n",
      "194  :  OBC  :  Tent  :  Yes  :  No  :  Purchase  :  LPG  :  Yes  :  Tent\n",
      "195  :  OBC  :  Tent  :  Yes  :  No  :  Not Applicable  :  LPG  :  No  :  Tent\n",
      "196  :  OBC  :  Hut  :  Yes  :  No  :  Purchase  :  LPG  :  No  :  Hut\n",
      "197  :  OBC  :  Tent  :  Yes  :  No  :  Purchase  :  LPG  :  No  :  Tent\n",
      "198  :  OBC  :  Hut  :  Yes  :  No  :  Purchase  :  LPG  :  No  :  Hut\n",
      "199  :  OBC  :  RCC-Single floor  :  Yes  :  No  :  Purchase  :  LPG  :  Yes  :  RCC-Single floor\n",
      "200  :  OBC  :  RCC-Single floor  :  Yes  :  No  :  Purchase  :  LPG  :  Yes  :  RCC-Single floor\n",
      "201  :  OBC  :  Hut  :  Yes  :  No  :  Purchase  :  LPG  :  No  :  Hut\n",
      "202  :  OBC  :  Tent  :  Yes  :  No  :  Purchase  :  LPG  :  No  :  Tent\n",
      "203  :  OBC  :  RCC-Single floor  :  Yes  :  No  :  Purchase  :  LPG  :  Yes  :  RCC-Single floor\n",
      "204B  :  OBC  :  Traditional tiles/black tiles  :  Yes  :  No  :  Purchase  :  Wood  :  No  :  Traditional tiles/black tiles\n",
      "205  :  OBC  :  Tent  :  Yes  :  No  :  Purchase  :  LPG  :  No  :  Tent\n",
      "206  :  OBC  :  Hut  :  Yes  :  No  :  Purchase  :  LPG  :  No  :  Hut\n",
      "207  :  OBC  :  RCC-Single floor  :  Yes  :  No  :  Purchase  :  LPG  :  Yes  :  RCC-Single floor\n",
      "208  :  OBC  :  Hut  :  Yes  :  No  :  Purchase  :  LPG  :  No  :  Hut\n",
      "209  :  OBC  :  Traditional tiles/black tiles  :  Yes  :  No  :  Purchase  :  LPG  :  Yes  :  Traditional tiles/black tiles\n",
      "210  :  OBC  :  Mangalore tiles  :  Yes  :  No  :  Purchase  :  LPG  :  Yes  :  Mangalore tiles\n",
      "211  :  OBC  :  Traditional tiles/black tiles  :  Yes  :  No  :  Purchase  :  LPG  :  No  :  Traditional tiles/black tiles\n",
      "212B  :  OBC  :  Hut  :  Yes  :  No  :  Purchase  :  LPG  :  No  :  Hut\n",
      "213  :  OBC  :  RCC-Single floor  :  Yes  :  No  :  Purchase  :  LPG  :  Yes  :  RCC-Single floor\n",
      "214  :  OBC  :  Traditional tiles/black tiles  :  Yes  :  No  :  Purchase  :  LPG  :  No  :  Traditional tiles/black tiles\n",
      "215  :  OBC  :  Traditional tiles/black tiles  :  Yes  :  No  :  Purchase  :  LPG  :  Yes  :  Traditional tiles/black tiles\n",
      "216B  :  OBC  :  Traditional tiles/black tiles  :  Yes  :  No  :  Purchase  :  LPG  :  No  :  Traditional tiles/black tiles\n",
      "217  :  OBC  :  Traditional tiles/black tiles  :  Yes  :  No  :  Purchase  :  LPG  :  Yes  :  Traditional tiles/black tiles\n",
      "218  :  OBC  :  Tent  :  Yes  :  No  :  Purchase  :  LPG  :  Yes  :  Tent\n",
      "219  :  OBC  :  Tent  :  Yes  :  No  :  Purchase  :  LPG  :  Yes  :  Tent\n",
      "220  :  OBC  :  Hut  :  Yes  :  No  :  Purchase  :  LPG  :  No  :  Hut\n",
      "221  :  OBC  :  Traditional tiles/black tiles  :  Yes  :  No  :  Purchase  :  LPG  :  No  :  Traditional tiles/black tiles\n",
      "222  :  OBC  :  Tent  :  Yes  :  No  :  Purchase  :  LPG  :  Yes  :  Tent\n",
      "223  :  OBC  :  Tent  :  No  :  No  :  Purchase  :  LPG  :  Yes  :  Tent\n",
      "224  :  OBC  :  Traditional tiles/black tiles  :  Yes  :  No  :  Purchase  :  LPG  :  No  :  Traditional tiles/black tiles\n",
      "227  :  OBC  :  RCC-Single floor  :  Yes  :  No  :  Purchase  :  Wood  :  No  :  RCC-Single floor\n",
      "228  :  OBC  :  Tent  :  Yes  :  No  :  Purchase  :  LPG  :  No  :  Tent\n",
      "230  :  OBC  :  RCC-Single floor  :  Yes  :  No  :  Purchase  :  LPG  :  Yes  :  RCC-Single floor\n",
      "232  :  OBC  :  Tent  :  Yes  :  No  :  Purchase  :  Wood  :  No  :  Tent\n",
      "235  :  OBC  :  Tent  :  Yes  :  No  :  Purchase  :  LPG  :  No  :  Tent\n",
      "236  :  OBC  :  RCC-Single floor  :  Yes  :  No  :  Purchase  :  LPG  :  Yes  :  RCC-Single floor\n",
      "237B  :  OBC  :  RCC-Single floor  :  Yes  :  No  :  Purchase  :  LPG  :  No  :  RCC-Single floor\n",
      "238  :  OBC  :  RCC-Single floor  :  Yes  :  No  :  Purchase  :  LPG  :  No  :  RCC-Single floor\n",
      "239  :  OBC  :  RCC-Single floor  :  Yes  :  No  :  Purchase  :  LPG  :  Yes  :  RCC-Single floor\n",
      "240  :  OBC  :  RCC-Single floor  :  Yes  :  No  :  Purchase  :  LPG  :  Yes  :  RCC-Single floor\n",
      "241  :  OBC  :  RCC-Single floor  :  Yes  :  Yes  :  Purchase  :  LPG  :  Yes  :  RCC-Single floor\n",
      "248  :  OBC  :  RCC-Single floor  :  Yes  :  No  :  Purchase  :  LPG  :  Yes  :  RCC-Single floor\n",
      "249  :  OBC  :  RCC-Single floor  :  Yes  :  No  :  Purchase  :  LPG  :  Yes  :  RCC-Single floor\n",
      "251  :  OBC  :  Tent  :  Yes  :  No  :  Purchase  :  LPG  :  Yes  :  Tent\n",
      "252  :  OBC  :  Tent  :  Yes  :  No  :  Not Applicable  :  Wood  :  No  :  Tent\n"
     ]
    },
    {
     "name": "stdout",
     "output_type": "stream",
     "text": [
      "253  :  OBC  :  RCC-Single floor  :  Yes  :  Yes  :  Purchase  :  LPG  :  Yes  :  RCC-Single floor\n",
      "255B  :  OBC  :  Tent  :  Yes  :  No  :  Not Applicable  :  LPG  :  Yes  :  Tent\n",
      "256  :  OBC  :  RCC-Single floor  :  Yes  :  No  :  Purchase  :  LPG  :  Yes  :  RCC-Single floor\n",
      "257D  :  OBC  :  Tent  :  Yes  :  No  :  Purchase  :  LPG  :  No  :  Tent\n",
      "258  :  OBC  :  Tent  :  Yes  :  No  :  Purchase  :  LPG  :  No  :  Tent\n",
      "259  :  OBC  :  Hut  :  Yes  :  No  :  Purchase  :  LPG  :  Yes  :  Hut\n",
      "260  :  OBC  :  Hut  :  Yes  :  No  :  Purchase  :  LPG  :  Yes  :  Hut\n",
      "261  :  OBC  :  Hut  :  Yes  :  No  :  Purchase  :  LPG  :  No  :  Hut\n",
      "264  :  GM  :  RCC-Single floor  :  Yes  :  Yes  :  Not Applicable  :  LPG  :  Yes  :  RCC-Single floor\n",
      "266  :  GM  :  Tent  :  Yes  :  No  :  Purchase  :  LPG  :  Yes  :  Tent\n",
      "267C  :  SC  :  Hut  :  Yes  :  Yes  :  Not Applicable  :  LPG  :  No  :  Hut\n",
      "268B  :  OBC  :  Hut  :  Yes  :  No  :  Not Applicable  :  LPG  :  No  :  Hut\n",
      "270  :  OBC  :  Tent  :  Yes  :  No  :  Purchase  :  LPG  :  Yes  :  Tent\n",
      "272  :  GM  :  Hut  :  Yes  :  Yes  :  Inhouse  :  Wood  :  No  :  Hut\n",
      "273  :  GM  :  Tent  :  Yes  :  No  :  Not Applicable  :  LPG  :  Yes  :  Tent\n",
      "274  :  OBC  :  Tent  :  Yes  :  Yes  :  Not Applicable  :  LPG  :  No  :  Tent\n",
      "275  :  OBC  :  Tent  :  Yes  :  No  :  Purchase  :  LPG  :  Yes  :  Tent\n",
      "277B  :  SC  :  Traditional tiles/black tiles  :  Yes  :  No  :  Purchase  :  LPG  :  No  :  Traditional tiles/black tiles\n",
      "279  :  SC  :  Tent  :  Yes  :  No  :  Purchase  :  LPG  :  Yes  :  Tent\n",
      "280B  :  SC  :  Tent  :  Yes  :  No  :  Purchase  :  LPG  :  No  :  Tent\n",
      "282  :  SC  :  Traditional tiles/black tiles  :  Yes  :  No  :  Purchase  :  LPG  :  Yes  :  Traditional tiles/black tiles\n",
      "283  :  SC  :  Tent  :  Yes  :  No  :  Purchase  :  Wood  :  Yes  :  Tent\n",
      "285B  :  SC  :  Tent  :  Yes  :  No  :  Purchase  :  LPG  :  Yes  :  Tent\n",
      "287  :  SC  :  Traditional tiles/black tiles  :  Yes  :  No  :  Purchase  :  LPG  :  No  :  Traditional tiles/black tiles\n",
      "288  :  SC  :  Hut  :  Yes  :  No  :  Purchase  :  LPG  :  No  :  Hut\n",
      "289B  :  SC  :  Tent  :  Yes  :  No  :  Purchase  :  LPG  :  Yes  :  Tent\n",
      "290B  :  SC  :  Tent  :  Yes  :  No  :  Purchase  :  LPG  :  Yes  :  Tent\n",
      "291B  :  SC  :  Traditional tiles/black tiles  :  Yes  :  No  :  Purchase  :  LPG  :  Yes  :  Traditional tiles/black tiles\n",
      "293  :  SC  :  Mangalore tiles  :  Yes  :  No  :  Purchase  :  LPG  :  Yes  :  Mangalore tiles\n",
      "294  :  SC  :  Tent  :  Yes  :  Yes  :  Purchase  :  LPG  :  No  :  Tent\n",
      "295  :  SC  :  Tent  :  Yes  :  No  :  Purchase  :  LPG  :  Yes  :  Tent\n",
      "296B  :  SC  :  Tent  :  Yes  :  Yes  :  Purchase  :  Wood  :  No  :  Tent\n",
      "297  :  OBC  :  Tent  :  Yes  :  No  :  Purchase  :  LPG  :  No  :  Tent\n",
      "299  :  SC  :  Tent  :  Yes  :  No  :  Purchase  :  Wood  :  Yes  :  Tent\n",
      "301  :  SC  :  Tent  :  Yes  :  No  :  Purchase  :  LPG  :  Yes  :  Tent\n",
      "303  :  ST  :  Traditional tiles/black tiles  :  Yes  :  Yes  :  Purchase  :  Wood  :  Yes  :  Traditional tiles/black tiles\n",
      "306  :  OBC  :  Hut  :  Yes  :  No  :  Purchase  :  Wood  :  No  :  Hut\n",
      "307  :  OBC  :  Mangalore tiles  :  Yes  :  No  :  Purchase  :  LPG  :  Yes  :  Mangalore tiles\n",
      "310  :  OBC  :  RCC-Single floor  :  Yes  :  No  :  Purchase  :  LPG  :  Yes  :  RCC-Single floor\n",
      "311B  :  ST  :  Traditional tiles/black tiles  :  Yes  :  No  :  Purchase  :  LPG  :  No  :  Traditional tiles/black tiles\n",
      "312  :  ST  :  Traditional tiles/black tiles  :  Yes  :  No  :  Purchase  :  LPG  :  No  :  Traditional tiles/black tiles\n",
      "313  :  OBC  :  Traditional tiles/black tiles  :  Yes  :  No  :  Purchase  :  LPG  :  No  :  Traditional tiles/black tiles\n",
      "314  :  OBC  :  Traditional tiles/black tiles  :  Yes  :  No  :  Purchase  :  LPG  :  No  :  Traditional tiles/black tiles\n",
      "316  :  OBC  :  Traditional tiles/black tiles  :  Yes  :  No  :  Purchase  :  LPG  :  No  :  Traditional tiles/black tiles\n",
      "317  :  OBC  :  Hut  :  Yes  :  No  :  Purchase  :  Wood  :  No  :  Hut\n",
      "320  :  OBC  :  Traditional tiles/black tiles  :  Yes  :  No  :  Purchase  :  LPG  :  Yes  :  Traditional tiles/black tiles\n",
      "321  :  OBC  :  Tent  :  Yes  :  No  :  Purchase  :  LPG  :  Yes  :  Tent\n",
      "326  :  OBC  :  Traditional tiles/black tiles  :  Yes  :  No  :  Purchase  :  LPG  :  No  :  Traditional tiles/black tiles\n",
      "327  :  OBC  :  Hut  :  Yes  :  No  :  Purchase  :  Wood  :  No  :  Hut\n",
      "328  :  OBC  :  Mangalore tiles  :  Yes  :  No  :  Purchase  :  LPG  :  Yes  :  Mangalore tiles\n",
      "329  :  OBC  :  RCC-Single floor  :  Yes  :  No  :  Purchase  :  Wood  :  Yes  :  RCC-Single floor\n",
      "330  :  OBC  :  RCC-Single floor  :  Yes  :  No  :  Purchase  :  LPG  :  Yes  :  RCC-Single floor\n",
      "331  :  OBC  :  Tent  :  Yes  :  No  :  Purchase  :  LPG  :  Yes  :  Tent\n",
      "332  :  OBC  :  Tent  :  Yes  :  No  :  Purchase  :  LPG  :  Yes  :  Tent\n",
      "333B  :  OBC  :  Hut  :  Yes  :  No  :  Purchase  :  LPG  :  No  :  Hut\n",
      "334  :  OBC  :  Tent  :  Yes  :  No  :  Purchase  :  LPG  :  No  :  Tent\n",
      "336  :  OBC  :  Mangalore tiles  :  Yes  :  No  :  Purchase  :  LPG  :  No  :  Mangalore tiles\n",
      "337B  :  OBC  :  Hut  :  Yes  :  No  :  Purchase  :  Wood  :  No  :  Hut\n",
      "338  :  ST  :  RCC-Single floor  :  Yes  :  Yes  :  Purchase  :  LPG  :  No  :  RCC-Single floor\n",
      "339  :  ST  :  Tent  :  Yes  :  No  :  Purchase  :  LPG  :  Yes  :  Tent\n",
      "340  :  OBC  :  Tent  :  No  :  No  :  Purchase  :  LPG  :  No  :  Tent\n",
      "341  :  ST  :  Tent  :  Yes  :  No  :  Purchase  :  LPG  :  Yes  :  Tent\n",
      "342  :  OBC  :  RCC-Single floor  :  Yes  :  No  :  Purchase  :  LPG  :  Yes  :  RCC-Single floor\n",
      "343  :  OBC  :  RCC-Single floor  :  Yes  :  No  :  Purchase  :  LPG  :  Yes  :  RCC-Single floor\n",
      "345B  :  OBC  :  Hut  :  Yes  :  No  :  Purchase  :  Wood  :  No  :  Hut\n",
      "346  :  OBC  :  Tent  :  Yes  :  No  :  Purchase  :  LPG  :  No  :  Tent\n",
      "347B  :  ST  :  Tent  :  No  :  No  :  Purchase  :  Wood  :  No  :  Tent\n",
      "348  :  OBC  :  Tent  :  Yes  :  No  :  Purchase  :  LPG  :  No  :  Tent\n",
      "349  :  ST  :  Tent  :  Yes  :  No  :  Purchase  :  LPG  :  No  :  Tent\n",
      "350  :  ST  :  Tent  :  Yes  :  No  :  Purchase  :  LPG  :  No  :  Tent\n",
      "351B  :  ST  :  Tent  :  Yes  :  No  :  Purchase  :  LPG  :  No  :  Tent\n",
      "352  :  ST  :  Hut  :  Yes  :  No  :  Purchase  :  LPG  :  No  :  Hut\n",
      "353  :  ST  :  RCC-Single floor  :  Yes  :  No  :  Purchase  :  LPG  :  Yes  :  RCC-Single floor\n",
      "354  :  ST  :  Tent  :  Yes  :  No  :  Purchase  :  LPG  :  No  :  Tent\n",
      "355  :  ST  :  RCC-Single floor  :  Yes  :  No  :  Purchase  :  LPG  :  No  :  RCC-Single floor\n",
      "356B  :  ST  :  Tent  :  Yes  :  No  :  Purchase  :  Wood  :  No  :  Tent\n",
      "357  :  ST  :  Traditional tiles/black tiles  :  Yes  :  No  :  Purchase  :  LPG  :  No  :  Traditional tiles/black tiles\n",
      "358  :  ST  :  Mangalore tiles  :  Yes  :  No  :  Purchase  :  LPG  :  No  :  Mangalore tiles\n",
      "359  :  OBC  :  RCC-Single floor  :  Yes  :  No  :  Purchase  :  LPG  :  Yes  :  RCC-Single floor\n",
      "360  :  ST  :  Tent  :  Yes  :  Yes  :  Purchase  :  LPG  :  Yes  :  Tent\n",
      "361  :  ST  :  Tent  :  Yes  :  No  :  Purchase  :  LPG  :  Yes  :  Tent\n",
      "362  :  ST  :  Tent  :  Yes  :  No  :  Purchase  :  LPG  :  Yes  :  Tent\n",
      "363  :  ST  :  Tent  :  Yes  :  Yes  :  Purchase  :  LPG  :  Yes  :  Tent\n",
      "364  :  ST  :  RCC-Single floor  :  Yes  :  No  :  Purchase  :  LPG  :  Yes  :  RCC-Single floor\n",
      "365  :  ST  :  RCC- Multi floor  :  Yes  :  No  :  Purchase  :  LPG  :  No  :  RCC- Multi floor\n",
      "366  :  ST  :  RCC-Single floor  :  Yes  :  No  :  Purchase  :  LPG  :  Yes  :  RCC-Single floor\n",
      "367  :  ST  :  Tent  :  Yes  :  No  :  Purchase  :  LPG  :  No  :  Tent\n",
      "369  :  ST  :  Tent  :  Yes  :  No  :  Purchase  :  LPG  :  Yes  :  Tent\n",
      "371  :  ST  :  Tent  :  Yes  :  No  :  Purchase  :  LPG  :  Yes  :  Tent\n",
      "372  :  ST  :  Tent  :  Yes  :  No  :  Purchase  :  LPG  :  Yes  :  Tent\n",
      "373  :  ST  :  Tent  :  Yes  :  No  :  Purchase  :  LPG  :  Yes  :  Tent\n",
      "374B  :  ST  :  Tent  :  Yes  :  No  :  Purchase  :  LPG  :  No  :  Tent\n",
      "378  :  ST  :  Tent  :  Yes  :  Yes  :  Purchase  :  LPG  :  Yes  :  Tent\n",
      "380  :  ST  :  Tent  :  Yes  :  No  :  Purchase  :  Wood  :  No  :  Tent\n",
      "381B  :  ST  :  Tent  :  Yes  :  No  :  Purchase  :  LPG  :  No  :  Tent\n",
      "382B  :  ST  :  Tent  :  Yes  :  No  :  Purchase  :  LPG  :  No  :  Tent\n",
      "383  :  SC  :  Tent  :  Yes  :  No  :  Purchase  :  LPG  :  Yes  :  Tent\n",
      "384  :  ST  :  Tent  :  Yes  :  No  :  Purchase  :  LPG  :  Yes  :  Tent\n",
      "385  :  ST  :  Tent  :  Yes  :  No  :  Purchase  :  Wood  :  Yes  :  Tent\n",
      "386  :  ST  :  Tent  :  Yes  :  No  :  Purchase  :  Wood  :  No  :  Tent\n",
      "387  :  SC  :  Tent  :  Yes  :  No  :  Purchase  :  LPG  :  No  :  Tent\n",
      "389B  :  SC  :  Tent  :  Yes  :  Yes  :  Purchase  :  LPG  :  Yes  :  Tent\n",
      "390  :  SC  :  Tent  :  Yes  :  No  :  Inhouse  :  LPG  :  No  :  Tent\n",
      "391B  :  SC  :  Mangalore tiles  :  Yes  :  No  :  Purchase  :  LPG  :  Yes  :  Mangalore tiles\n",
      "393  :  SC  :  Mangalore tiles  :  Yes  :  No  :  Purchase  :  Wood  :  No  :  Mangalore tiles\n",
      "394  :  SC  :  Tent  :  Yes  :  Yes  :  Purchase  :  LPG  :  No  :  Tent\n",
      "395  :  ST  :  RCC-Single floor  :  Yes  :  No  :  Purchase  :  Wood  :  Yes  :  RCC-Single floor\n",
      "396C  :  SC  :  Hut  :  No  :  No  :  Not Applicable  :  LPG  :  No  :  Hut\n",
      "397B  :  SC  :  Tent  :  Yes  :  No  :  Purchase  :  Wood  :  No  :  Tent\n",
      "399  :  SC  :  RCC-Single floor  :  Yes  :  No  :  Purchase  :  LPG  :  Yes  :  RCC-Single floor\n",
      "401C  :  SC  :  RCC-Single floor  :  Yes  :  No  :  Purchase  :  LPG  :  No  :  RCC-Single floor\n",
      "402C  :  SC  :  RCC-Single floor  :  Yes  :  No  :  Purchase  :  LPG  :  Yes  :  RCC-Single floor\n",
      "409  :  SC  :  Tent  :  Yes  :  No  :  Not Applicable  :  Wood  :  No  :  Tent\n",
      "410  :  SC  :  Tent  :  Yes  :  No  :  Purchase  :  Wood  :  No  :  Tent\n",
      "411  :  SC  :  RCC-Single floor  :  Yes  :  No  :  Purchase  :  LPG  :  Yes  :  RCC-Single floor\n",
      "412  :  SC  :  Traditional tiles/black tiles  :  Yes  :  Yes  :  Purchase  :  LPG  :  No  :  Traditional tiles/black tiles\n",
      "413  :  SC  :  RCC-Single floor  :  Yes  :  No  :  Not Applicable  :  LPG  :  Yes  :  RCC-Single floor\n",
      "414  :  SC  :  Tent  :  Yes  :  No  :  Purchase  :  LPG  :  No  :  Tent\n",
      "416  :  SC  :  Tent  :  Yes  :  No  :  Not Applicable  :  Wood  :  No  :  Tent\n",
      "417  :  SC  :  Traditional tiles/black tiles  :  Yes  :  No  :  Not Applicable  :  LPG  :  Yes  :  Traditional tiles/black tiles\n",
      "418  :  SC  :  Tent  :  Yes  :  Yes  :  Not Applicable  :  Wood  :  Yes  :  Tent\n",
      "419  :  SC  :  Tent  :  Yes  :  Yes  :  Purchase  :  Wood  :  Yes  :  Tent\n",
      "420  :  SC  :  RCC-Single floor  :  Yes  :  Yes  :  Purchase  :  LPG  :  Yes  :  RCC-Single floor\n",
      "421  :  SC  :  Tent  :  Yes  :  No  :  Not Applicable  :  LPG  :  No  :  Tent\n",
      "423B  :  SC  :  Tent  :  Yes  :  No  :  Not Applicable  :  LPG  :  Yes  :  Tent\n",
      "424  :  SC  :  Tent  :  Yes  :  No  :  Not Applicable  :  LPG  :  No  :  Tent\n",
      "425  :  SC  :  Tent  :  Yes  :  No  :  Not Applicable  :  LPG  :  No  :  Tent\n",
      "426  :  SC  :  Hut  :  No  :  No  :  Not Applicable  :  LPG  :  No  :  Hut\n",
      "427  :  SC  :  Tent  :  Yes  :  No  :  Not Applicable  :  LPG  :  Yes  :  Tent\n",
      "428  :  SC  :  Hut  :  Yes  :  No  :  Purchase  :  LPG  :  No  :  Hut\n",
      "429  :  SC  :  Tent  :  Yes  :  Yes  :  Not Applicable  :  Wood  :  No  :  Tent\n",
      "430  :  SC  :  Tent  :  Yes  :  No  :  Not Applicable  :  LPG  :  Yes  :  Tent\n",
      "431  :  SC  :  Mangalore tiles  :  Yes  :  No  :  Purchase  :  LPG  :  No  :  Mangalore tiles\n",
      "432  :  SC  :  Traditional tiles/black tiles  :  Yes  :  No  :  Not Applicable  :  LPG  :  No  :  Traditional tiles/black tiles\n",
      "433  :  SC  :  RCC-Single floor  :  Yes  :  No  :  Purchase  :  LPG  :  Yes  :  RCC-Single floor\n",
      "434  :  SC  :  Tent  :  Yes  :  No  :  Purchase  :  Lpg + wood  :  No  :  Tent\n",
      "435  :  SC  :  Tent  :  Yes  :  No  :  Purchase  :  LPG  :  Yes  :  Tent\n",
      "437  :  SC  :  Tent  :  Yes  :  No  :  Not Applicable  :  LPG  :  Yes  :  Tent\n",
      "439  :  SC  :  Tent  :  Yes  :  No  :  Not Applicable  :  Lpg + wood  :  No  :  Tent\n",
      "440  :  SC  :  Tent  :  Yes  :  No  :  Purchase  :  Wood  :  Yes  :  Tent\n",
      "93B  :  OBC  :  Traditional tiles/black tiles  :  Yes  :  Yes  :  Purchase  :  Wood  :  No  :  Traditional tiles/black tiles\n",
      "43  :  OBC  :  Hut  :  Yes  :  No  :  Purchase  :  LPG  :  No  :  Hut\n",
      "433B  :  SC  :  Hut  :  Yes  :  No  :  Not Applicable  :  LPG  :  No  :  Hut\n",
      "431B  :  SC  :  Hut  :  Yes  :  No  :  Purchase  :  Wood  :  No  :  Hut\n",
      "423  :  GM  :  Tent  :  Yes  :  No  :  Not Applicable  :  LPG  :  No  :  Tent\n",
      "423C  :  SC  :  Tent  :  Yes  :  No  :  Not Applicable  :  LPG  :  No  :  Tent\n",
      "419B  :  SC  :  Tent  :  Yes  :  No  :  Not Applicable  :  LPG  :  No  :  Tent\n",
      "412B  :  SC  :  Traditional tiles/black tiles  :  Yes  :  No  :  Not Applicable  :  LPG  :  No  :  Traditional tiles/black tiles\n",
      "402  :  SC  :  RCC-Single floor  :  Yes  :  No  :  Purchase  :  LPG  :  No  :  RCC-Single floor\n",
      "402B  :  SC  :  Tent  :  No  :  No  :  Purchase  :  Wood  :  No  :  Tent\n",
      "401D  :  SC  :  Tent  :  No  :  No  :  Purchase  :  LPG  :  No  :  Tent\n",
      "401B  :  SC  :  Hut  :  No  :  No  :  Purchase  :  Wood  :  No  :  Hut\n",
      "401  :  SC  :  RCC-Single floor  :  Yes  :  No  :  Purchase  :  LPG  :  No  :  RCC-Single floor\n",
      "397C  :  SC  :  Tent  :  Yes  :  No  :  Purchase  :  LPG  :  No  :  Tent\n",
      "397  :  SC  :  RCC-Single floor  :  Yes  :  No  :  Purchase  :  Wood  :  No  :  RCC-Single floor\n",
      "396B  :  SC  :  Mangalore tiles  :  Yes  :  Yes  :  Inhouse  :  LPG  :  Yes  :  Mangalore tiles\n",
      "396  :  SC  :  Mangalore tiles  :  Yes  :  Yes  :  Inhouse  :  LPG  :  Yes  :  Mangalore tiles\n",
      "395B  :  ST  :  RCC-Single floor  :  Yes  :  No  :  Purchase  :  Wood  :  Yes  :  RCC-Single floor\n",
      "394B  :  SC  :  Tent  :  Yes  :  Yes  :  Purchase  :  LPG  :  No  :  Tent\n",
      "393B  :  SC  :  Mangalore tiles  :  Yes  :  No  :  Purchase  :  Wood  :  No  :  Mangalore tiles\n",
      "391C  :  SC  :  Mangalore tiles  :  Yes  :  No  :  Purchase  :  LPG  :  Yes  :  Mangalore tiles\n",
      "391  :  SC  :  Mangalore tiles  :  Yes  :  No  :  Purchase  :  LPG  :  Yes  :  Mangalore tiles\n",
      "390B  :  SC  :  Tent  :  Yes  :  No  :  Inhouse  :  LPG  :  No  :  Tent\n"
     ]
    },
    {
     "name": "stdout",
     "output_type": "stream",
     "text": [
      "389  :  SC  :  Tent  :  Yes  :  Yes  :  Purchase  :  LPG  :  Yes  :  Tent\n",
      "387B  :  SC  :  Tent  :  Yes  :  No  :  Purchase  :  LPG  :  No  :  Tent\n",
      "382  :  ST  :  Tent  :  Yes  :  No  :  Purchase  :  LPG  :  No  :  Tent\n",
      "381D  :  ST  :  Tent  :  Yes  :  Yes  :  Purchase  :  LPG  :  No  :  Tent\n",
      "381C  :  ST  :  Tent  :  Yes  :  Yes  :  Purchase  :  Wood  :  No  :  Tent\n",
      "381  :  ST  :  RCC-Single floor  :  Yes  :  No  :  Purchase  :  LPG  :  No  :  RCC-Single floor\n",
      "374  :  ST  :  Tent  :  Yes  :  No  :  Purchase  :  LPG  :  No  :  Tent\n",
      "371B  :  ST  :  Tent  :  Yes  :  No  :  Purchase  :  LPG  :  No  :  Tent\n",
      "356  :  ST  :  RCC-Single floor  :  Yes  :  No  :  Purchase  :  LPG  :  Yes  :  RCC-Single floor\n",
      "351  :  ST  :  Tent  :  Yes  :  No  :  Purchase  :  LPG  :  No  :  Tent\n",
      "351C  :  ST  :  Tent  :  Yes  :  Yes  :  Purchase  :  LPG  :  No  :  Tent\n",
      "350B  :  ST  :  Tent  :  Yes  :  No  :  Purchase  :  LPG  :  No  :  Tent\n",
      "348C  :  OBC  :  Hut  :  Yes  :  No  :  Purchase  :  Wood  :  No  :  Hut\n",
      "348B  :  OBC  :  Tent  :  Yes  :  No  :  Purchase  :  Wood  :  Yes  :  Tent\n",
      "347  :  ST  :  Tent  :  Yes  :  Yes  :  Purchase  :  LPG  :  No  :  Tent\n",
      "347C  :  ST  :  Tent  :  No  :  No  :  Purchase  :  LPG  :  No  :  Tent\n",
      "347E  :  ST  :  Tent  :  Yes  :  No  :  Purchase  :  LPG  :  No  :  Tent\n",
      "347F  :  ST  :  Hut  :  Yes  :  No  :  Purchase  :  Wood  :  No  :  Hut\n",
      "347D  :  ST  :  RCC-Single floor  :  Yes  :  No  :  Purchase  :  LPG  :  Yes  :  RCC-Single floor\n",
      "345  :  OBC  :  RCC-Single floor  :  Yes  :  No  :  Purchase  :  LPG  :  No  :  RCC-Single floor\n",
      "337  :  OBC  :  Hut  :  Yes  :  No  :  Purchase  :  Wood  :  No  :  Hut\n",
      "334B  :  OBC  :  Hut  :  Yes  :  No  :  Purchase  :  LPG  :  No  :  Hut\n",
      "333  :  OBC  :  RCC-Single floor  :  Yes  :  No  :  Inhouse  :  LPG  :  Yes  :  RCC-Single floor\n",
      "327B  :  OBC  :  Tent  :  Yes  :  No  :  Purchase  :  LPG  :  No  :  Tent\n",
      "311  :  ST  :  Tent  :  Yes  :  No  :  Purchase  :  LPG  :  Yes  :  Tent\n",
      "310B  :  OBC  :  Traditional tiles/black tiles  :  Yes  :  No  :  Purchase  :  LPG  :  Yes  :  Traditional tiles/black tiles\n",
      "296  :  SC  :  Traditional tiles/black tiles  :  Yes  :  No  :  Purchase  :  LPG  :  No  :  Traditional tiles/black tiles\n",
      "291  :  SC  :  Tent  :  Yes  :  No  :  Purchase  :  LPG  :  Yes  :  Tent\n",
      "290  :  SC  :  Tent  :  Yes  :  No  :  Purchase  :  LPG  :  No  :  Tent\n",
      "289  :  SC  :  Tent  :  Yes  :  No  :  Purchase  :  LPG  :  Yes  :  Tent\n",
      "287E  :  SC  :  Tent  :  Yes  :  No  :  Purchase  :  LPG  :  No  :  Tent\n",
      "287B  :  SC  :  Hut  :  Yes  :  No  :  Purchase  :  LPG  :  No  :  Hut\n",
      "287C  :  SC  :  Tent  :  No  :  No  :  Not Applicable  :  LPG  :  No  :  Tent\n",
      "287D  :  SC  :  Traditional tiles/black tiles  :  Yes  :  No  :  Purchase  :  LPG  :  Yes  :  Traditional tiles/black tiles\n",
      "285  :  SC  :  Tent  :  Yes  :  No  :  Purchase  :  LPG  :  No  :  Tent\n",
      "280  :  SC  :  Traditional tiles/black tiles  :  Yes  :  Yes  :  Purchase  :  LPG  :  Yes  :  Traditional tiles/black tiles\n",
      "277  :  OBC  :  Traditional tiles/black tiles  :  No  :  No  :  Purchase  :  LPG  :  No  :  Traditional tiles/black tiles\n",
      "277C  :  SC  :  Tent  :  Yes  :  No  :  Purchase  :  LPG  :  No  :  Tent\n",
      "268  :  OBC  :  Tent  :  Yes  :  No  :  Not Applicable  :  LPG  :  Yes  :  Tent\n",
      "267  :  OBC  :  Hut  :  Yes  :  Yes  :  Not Applicable  :  Wood  :  No  :  Hut\n",
      "267B  :  OBC  :  Hut  :  Yes  :  No  :  Purchase  :  LPG  :  No  :  Hut\n",
      "258B  :  GM  :  Tent  :  Yes  :  No  :  Purchase  :  Wood  :  No  :  Tent\n",
      "257  :  OBC  :  Tent  :  Yes  :  No  :  Purchase  :  LPG  :  Yes  :  Tent\n",
      "257E  :  OBC  :  Tent  :  Yes  :  No  :  Purchase  :  LPG  :  No  :  Tent\n",
      "257B  :  OBC  :  Tent  :  Yes  :  Yes  :  Purchase  :  LPG  :  No  :  Tent\n",
      "257C  :  OBC  :  Tent  :  Yes  :  No  :  Purchase  :  LPG  :  Yes  :  Tent\n",
      "255  :  OBC  :  RCC-Single floor  :  Yes  :  No  :  Purchase  :  LPG  :  No  :  RCC-Single floor\n",
      "248B  :  OBC  :  RCC-Single floor  :  Yes  :  Yes  :  Not Applicable  :  LPG  :  Yes  :  RCC-Single floor\n",
      "237  :  OBC  :  RCC-Single floor  :  Yes  :  No  :  Purchase  :  LPG  :  No  :  RCC-Single floor\n",
      "216  :  OBC  :  Traditional tiles/black tiles  :  Yes  :  No  :  Purchase  :  LPG  :  No  :  Traditional tiles/black tiles\n",
      "214B  :  OBC  :  Traditional tiles/black tiles  :  Yes  :  No  :  Purchase  :  LPG  :  No  :  Traditional tiles/black tiles\n",
      "212  :  OBC  :  RCC-Single floor  :  Yes  :  No  :  Purchase  :  LPG  :  Yes  :  RCC-Single floor\n",
      "208B  :  OBC  :  Tent  :  Yes  :  No  :  Purchase  :  LPG  :  No  :  Tent\n",
      "204  :  OBC  :  Traditional tiles/black tiles  :  Yes  :  No  :  Purchase  :  LPG  :  No  :  Traditional tiles/black tiles\n",
      "204C  :  OBC  :  Traditional tiles/black tiles  :  Yes  :  No  :  Purchase  :  LPG  :  No  :  Traditional tiles/black tiles\n",
      "18  :  GM  :  Traditional tiles/black tiles  :  Yes  :  No  :  Purchase  :  LPG  :  No  :  Traditional tiles/black tiles\n",
      "160  :  OBC  :  RCC-Single floor  :  Yes  :  No  :  Not Applicable  :  LPG  :  Yes  :  RCC-Single floor\n",
      "129B  :  OBC  :  Tent  :  Yes  :  No  :  Not Applicable  :  LPG  :  Yes  :  Tent\n",
      "117  :  GM  :  Tent  :  Yes  :  No  :  Not Applicable  :  LPG  :  No  :  Tent\n",
      "117C  :  GM  :  Tent  :  Yes  :  No  :  Not Applicable  :  LPG  :  No  :  Tent\n",
      "117D  :  GM  :  Traditional tiles/black tiles  :  Yes  :  No  :  Purchase  :  LPG  :  Yes  :  Traditional tiles/black tiles\n",
      "116B  :  GM  :  RCC-Single floor  :  Yes  :  No  :  Purchase  :  LPG  :  No  :  RCC-Single floor\n",
      "110  :  GM  :  RCC-Single floor  :  Yes  :  No  :  Purchase  :  LPG  :  Yes  :  RCC-Single floor\n",
      "100B  :  GM  :  Tent  :  Yes  :  No  :  Purchase  :  LPG  :  No  :  Tent\n",
      "262  :  OBC  :  Hut  :  No  :  No  :  Not Applicable  :  LPG  :  No  :  Hut\n",
      "Total row :  392\n"
     ]
    }
   ],
   "source": [
    "row = arcpy.da.SearchCursor(data,['PropertyNo','Ow_Name','Category','TypeHouse','OwnHouse','Migration','Fertilizer','Cook_By','Att_Toilet'])\n",
    "count = 0\n",
    "for Row in row:\n",
    "    if(Row[1] != ' '):\n",
    "        print(Row[0],' : ',Row[2],' : ',Row[3],' : ',Row[4],' : ',Row[5],' : ',Row[6],' : ',Row[7],' : ',Row[8],' : ',Row[3])\n",
    "        count += 1\n",
    "    else:\n",
    "        pass\n",
    "print('Total row : ', count)\n",
    "        "
   ]
  },
  {
   "cell_type": "code",
   "execution_count": null,
   "metadata": {},
   "outputs": [],
   "source": [
    "import matplotlib.pyplot as plt\n",
    "%matplotinline"
   ]
  },
  {
   "cell_type": "code",
   "execution_count": 7,
   "metadata": {},
   "outputs": [
    {
     "name": "stdout",
     "output_type": "stream",
     "text": [
      "402B  :  Nagrathna  :  SC  :  Tent  :  No  :  No  :  Wood  :  No  :  1\n",
      "401D  :  Mangala  :  SC  :  Tent  :  No  :  No  :  LPG  :  No  :  7\n",
      "287C  :  Rangamma bandivadar  :  SC  :  Tent  :  No  :  No  :  LPG  :  No  :  5\n",
      "Total row :  3\n"
     ]
    }
   ],
   "source": [
    "#['PropertyNo','Ow_Name','Category','TypeHouse','OwnHouse','Migration','Fertilizer','Cook_By','Att_Toilet']\n",
    "row = arcpy.da.SearchCursor(data,['PropertyNo','Ow_Name','Category','TypeHouse','OwnHouse','Migration','Cook_By','Att_Toilet','HH_Member'])\n",
    "count = 0\n",
    "l = []\n",
    "for Row in row:\n",
    "    if(Row[1] != ' ' and Row[2] == 'SC' and Row[3] == 'Tent' and Row[4] == 'No' and Row[7] == 'No'):\n",
    "        print(Row[0],' : ',Row[1],' : ',Row[2],' : ',Row[3],' : ',Row[4],' : ',Row[5],' : ',Row[6],' : ',Row[7],' : ',Row[8])\n",
    "        a = Row[0],Row[1],Row[2],Row[3],Row[4],Row[5],Row[6],Row[7],Row[8]\n",
    "        l.append(a)\n",
    "        count += 1\n",
    "    else:\n",
    "        pass\n",
    "print('Total row : ', count)"
   ]
  },
  {
   "cell_type": "code",
   "execution_count": 8,
   "metadata": {},
   "outputs": [],
   "source": [
    "data = r'E:\\Village_Mapping\\Shingtaluru\\Shapefile\\Properties_with_HH.shp'"
   ]
  },
  {
   "cell_type": "code",
   "execution_count": 10,
   "metadata": {},
   "outputs": [],
   "source": [
    "dB = arcpy.CreateFileGDB_management(r\"D:\\DataforArcObject\",'MyDb1')[0]"
   ]
  },
  {
   "cell_type": "code",
   "execution_count": 11,
   "metadata": {},
   "outputs": [
    {
     "name": "stdout",
     "output_type": "stream",
     "text": [
      "D:\\DataforArcObject\\MyDb1.gdb\n"
     ]
    }
   ],
   "source": [
    "print(dB)"
   ]
  },
  {
   "cell_type": "code",
   "execution_count": 12,
   "metadata": {},
   "outputs": [],
   "source": [
    "point = arcpy.Point(15.23,78.23)"
   ]
  },
  {
   "cell_type": "code",
   "execution_count": 13,
   "metadata": {},
   "outputs": [],
   "source": [
    "ptGeo = arcpy.PointGeometry(point)"
   ]
  },
  {
   "cell_type": "code",
   "execution_count": 14,
   "metadata": {},
   "outputs": [
    {
     "name": "stdout",
     "output_type": "stream",
     "text": [
      "<geoprocessing describe geometry object object at 0x00000179A6ECF238>\n"
     ]
    }
   ],
   "source": [
    "print(ptGeo)"
   ]
  },
  {
   "cell_type": "code",
   "execution_count": 15,
   "metadata": {},
   "outputs": [
    {
     "data": {
      "text/plain": [
       "'{\"x\":15.23,\"y\":78.230000000000004,\"spatialReference\":{\"wkid\":null}}'"
      ]
     },
     "execution_count": 15,
     "metadata": {},
     "output_type": "execute_result"
    }
   ],
   "source": [
    "ptGeo.JSON"
   ]
  },
  {
   "cell_type": "code",
   "execution_count": 16,
   "metadata": {},
   "outputs": [],
   "source": [
    "coord = [[0,0],[1,1],[2,2],[3,3],[0,1],[2,0]]"
   ]
  },
  {
   "cell_type": "code",
   "execution_count": 17,
   "metadata": {},
   "outputs": [],
   "source": [
    "array = arcpy.Array([arcpy.Point(*xy) for xy in coord])"
   ]
  },
  {
   "cell_type": "code",
   "execution_count": 18,
   "metadata": {},
   "outputs": [
    {
     "name": "stdout",
     "output_type": "stream",
     "text": [
      "{\"rings\":[[[0,0],[0.66668701171875,0.66668701171875],[2.0001220703125,0],[0,0]],[[0.66668701171875,0.66668701171875],[0,1.0001220703125],[3.0001220703125,3.0001220703125],[2.0001220703125,2.0001220703125],[1.0001220703125,1.0001220703125],[0.66668701171875,0.66668701171875]]],\"spatialReference\":{\"wkid\":null}}\n"
     ]
    }
   ],
   "source": [
    "print(arcpy.Polygon(array).JSON)"
   ]
  },
  {
   "cell_type": "code",
   "execution_count": 19,
   "metadata": {},
   "outputs": [
    {
     "data": {
      "text/plain": [
       "'GCS_WGS_1984'"
      ]
     },
     "execution_count": 19,
     "metadata": {},
     "output_type": "execute_result"
    }
   ],
   "source": [
    "sr = arcpy.SpatialReference(4326)\n",
    "sr.name"
   ]
  },
  {
   "cell_type": "code",
   "execution_count": null,
   "metadata": {},
   "outputs": [],
   "source": [
    "wkt = '''GEOGCS[\"GCS_WGS_1984\",DATUM[\"D_WGS_1984\",SPHEROID\n",
    "[\"WGS_1984\",6378137.0,298.257223563]],PRIMEM[\"Greenwich\",0.0],\n",
    "UNIT[\"Degree\",0.0174532925199433]]'''"
   ]
  },
  {
   "cell_type": "code",
   "execution_count": null,
   "metadata": {},
   "outputs": [],
   "source": [
    "wkt"
   ]
  },
  {
   "cell_type": "code",
   "execution_count": null,
   "metadata": {},
   "outputs": [],
   "source": [
    "sr = arcpy.SpatialReference()\n",
    "sr.loadFromString(wkt)\n",
    "sr.name"
   ]
  },
  {
   "cell_type": "code",
   "execution_count": null,
   "metadata": {},
   "outputs": [],
   "source": [
    "desc = arcpy.da.Describe(data)['spatialReference']\n",
    "print(desc.factoryCode)\n",
    "print(desc.type)"
   ]
  },
  {
   "cell_type": "code",
   "execution_count": null,
   "metadata": {},
   "outputs": [],
   "source": [
    "for factorcode in [4326,32145]:\n",
    "    sr = arcpy.SpatialReference(factorcode)\n",
    "    print(sr.name,' : ',sr.factoryCode, ' : ',sr.type)"
   ]
  },
  {
   "cell_type": "code",
   "execution_count": null,
   "metadata": {},
   "outputs": [],
   "source": [
    "pt = arcpy.Point(18,78)\n",
    "sr = arcpy.SpatialReference(4326)\n",
    "ptGeo = arcpy.PointGeometry(pt,sr)\n",
    "print(ptGeo.JSON)"
   ]
  },
  {
   "cell_type": "code",
   "execution_count": null,
   "metadata": {},
   "outputs": [],
   "source": [
    "field = [\n",
    "    ('F_Name','TEXT'),\n",
    "    ('Area_','DOUBLE'),\n",
    "    ('Pop_','LONG'),\n",
    "    ('Nun','FLOAT')\n",
    "]\n",
    "\n",
    "for fld in field:\n",
    "    arcpy.management.AddField(data,fld[0],fld[1])"
   ]
  },
  {
   "cell_type": "code",
   "execution_count": null,
   "metadata": {},
   "outputs": [],
   "source": [
    "[fld.name for fld in arcpy.ListFields(data)]"
   ]
  },
  {
   "cell_type": "code",
   "execution_count": null,
   "metadata": {},
   "outputs": [],
   "source": [
    "coun = arcpy.management.GetCount(data)\n",
    "coun.getOutput(0)"
   ]
  }
 ],
 "metadata": {
  "kernelspec": {
   "display_name": "Python 3",
   "language": "python",
   "name": "python3"
  },
  "language_info": {
   "codemirror_mode": {
    "name": "ipython",
    "version": 3
   },
   "file_extension": ".py",
   "mimetype": "text/x-python",
   "name": "python",
   "nbconvert_exporter": "python",
   "pygments_lexer": "ipython3",
   "version": "3.6.9"
  }
 },
 "nbformat": 4,
 "nbformat_minor": 2
}
