{
 "cells": [
  {
   "cell_type": "code",
   "execution_count": 2,
   "metadata": {},
   "outputs": [],
   "source": [
    "#data copy from one file to another file"
   ]
  },
  {
   "cell_type": "code",
   "execution_count": 3,
   "metadata": {},
   "outputs": [],
   "source": [
    "original = r\"D:\\General\\Professional\\1. Ph.D\\Agrani\\Ph.D.txt\"\n",
    "newOne = r\"D:\\General\\Professional\\1. Ph.D\\Agrani\\New.txt\""
   ]
  },
  {
   "cell_type": "code",
   "execution_count": 5,
   "metadata": {},
   "outputs": [
    {
     "name": "stdout",
     "output_type": "stream",
     "text": [
      "Done All\n"
     ]
    }
   ],
   "source": [
    "Org = open(original,'r')\n",
    "New = open(newOne,'w')\n",
    "\n",
    "for data in Org:\n",
    "    New.write(data)\n",
    "    \n",
    "New.close()\n",
    "Org.close()\n",
    "print('Done All')"
   ]
  },
  {
   "cell_type": "code",
   "execution_count": 6,
   "metadata": {},
   "outputs": [
    {
     "name": "stdout",
     "output_type": "stream",
     "text": [
      "phd 92chougulesagar\n",
      "\n",
      "\n",
      "\n",
      "pass : Sagar@123\n"
     ]
    }
   ],
   "source": [
    "Org = open(original,'r')   #read will provide string  and readlines will provide list\n",
    "for dts in Org:\n",
    "    print(dts)\n",
    "Org.close()"
   ]
  },
  {
   "cell_type": "code",
   "execution_count": 8,
   "metadata": {},
   "outputs": [
    {
     "data": {
      "text/plain": [
       "'phd 92chougulesagar\\n\\npass : Sagar@123'"
      ]
     },
     "execution_count": 8,
     "metadata": {},
     "output_type": "execute_result"
    }
   ],
   "source": [
    "Org = open(original,'r')   #to String\n",
    "Org.read()"
   ]
  },
  {
   "cell_type": "code",
   "execution_count": 9,
   "metadata": {},
   "outputs": [
    {
     "data": {
      "text/plain": [
       "['phd 92chougulesagar\\n', '\\n', 'pass : Sagar@123']"
      ]
     },
     "execution_count": 9,
     "metadata": {},
     "output_type": "execute_result"
    }
   ],
   "source": [
    "Org = open(original,'r')    #to List\n",
    "Org.readlines()"
   ]
  },
  {
   "cell_type": "code",
   "execution_count": 31,
   "metadata": {},
   "outputs": [],
   "source": [
    "# r : to read file\n",
    "# w : to write data\n",
    "# r+ : read and write data\n",
    "# a : for append data\n",
    "\n",
    "# rb : to read binary\n",
    "# wb : to read binary"
   ]
  },
  {
   "cell_type": "code",
   "execution_count": 32,
   "metadata": {},
   "outputs": [],
   "source": [
    "# read() return to string\n",
    "# read() return to string\n",
    "# readline() return to string\n",
    "# readlines() return to list of strings"
   ]
  },
  {
   "cell_type": "code",
   "execution_count": 33,
   "metadata": {},
   "outputs": [],
   "source": [
    "import math, os"
   ]
  },
  {
   "cell_type": "code",
   "execution_count": 34,
   "metadata": {},
   "outputs": [],
   "source": [
    "shing = r\"D:\\tmep\\Shingtaluru.txt\"\n",
    "newOne = r\"D:\\tmep\\Sing.txt\""
   ]
  },
  {
   "cell_type": "code",
   "execution_count": 35,
   "metadata": {},
   "outputs": [
    {
     "name": "stdout",
     "output_type": "stream",
     "text": [
      "done\n"
     ]
    }
   ],
   "source": [
    "if(os.path.exists(shing)):\n",
    "    inf = open(shing,'r')\n",
    "    outf = open(newOne,'w')\n",
    "    \n",
    "    header = inf.readline()\n",
    "    outf.write(header)\n",
    "    \n",
    "    for line in inf:\n",
    "        line = line.split()\n",
    "        dbh = float(line[2])\n",
    "        dbh = math.sqrt(dbh)\n",
    "        \n",
    "        line[3] = str(dbh)\n",
    "        modLine = '\\t'.join(line)\n",
    "        outf.write(modLine + '\\n')\n",
    "    \n",
    "inf.close()\n",
    "outf.close()\n",
    "print('done')"
   ]
  },
  {
   "cell_type": "code",
   "execution_count": 43,
   "metadata": {},
   "outputs": [
    {
     "name": "stdout",
     "output_type": "stream",
     "text": [
      "HousEID\tWardNo\tNumberofFamilyMembers\tCategory\tPantha\n",
      "1\t1\t5\tST\tHindu\n",
      "2\t1\t3\tGM\tHindu\n",
      "3\t1\t6\tST\tHindu\n",
      "4\t1\t8\tST\tHindu\n",
      "5\t1\t2\tOBC\tHindu\n",
      "6\t1\t5\tSC\tHindu\n",
      "7\t1\t4\tSC\tHindu\n",
      "8\t1\t3\tST\tHindu\n",
      "9\t1\t4\tOBC\tHindu\n",
      "10\t1\t4\tOBC\tHindu\n",
      "11\t1\t4\tOBC\tHindu\n",
      "12\t1\t5\tOBC\tHindu\n",
      "13\t1\t4\tOBC\tHindu\n",
      "15\t1\t4\tOBC\tHindu\n",
      "16\t1\t5\tOBC\tHindu\n",
      "18\t1\t2\tGM\tHindu\n",
      "19\t1\t14\tGM\tHindu\n",
      "21\t1\t4\tOBC\tHindu\n",
      "23\t1\t3\tOBC\tHindu\n",
      "24\t1\t4\tOBC\tHindu\n",
      "26\t1\t4\tOBC\tHindu\n",
      "27\t1\t5\tOBC\tHindu\n",
      "28\t1\t7\tOBC\tHindu\n",
      "29\t1\t5\tOBC\tHindu\n",
      "31\t1\t2\tSC\tHindu\n",
      "31\t1\t3\tSC\tHindu\n",
      "32\t1\t3\tOBC\tHindu\n",
      "33\t1\t5\tST\tHindu\n",
      "34\t1\t4\tOBC\tHindu\n",
      "35\t1\t1\tST\tHindu\n",
      "36\t1\t5\tOBC\tHindu\n",
      "42\t1\t5\tGM\tHindu\n",
      "42\t1\t4\tOBC\tHindu\n",
      "\n"
     ]
    }
   ],
   "source": [
    "with open(r\"D:\\tmep\\Shingtaluru.txt\") as f:\n",
    "    a = f.read()\n",
    "    print(a)"
   ]
  },
  {
   "cell_type": "code",
   "execution_count": null,
   "metadata": {},
   "outputs": [],
   "source": []
  },
  {
   "cell_type": "code",
   "execution_count": null,
   "metadata": {},
   "outputs": [],
   "source": []
  }
 ],
 "metadata": {
  "kernelspec": {
   "display_name": "Python 3",
   "language": "python",
   "name": "python3"
  },
  "language_info": {
   "codemirror_mode": {
    "name": "ipython",
    "version": 3
   },
   "file_extension": ".py",
   "mimetype": "text/x-python",
   "name": "python",
   "nbconvert_exporter": "python",
   "pygments_lexer": "ipython3",
   "version": "3.6.9"
  }
 },
 "nbformat": 4,
 "nbformat_minor": 2
}
