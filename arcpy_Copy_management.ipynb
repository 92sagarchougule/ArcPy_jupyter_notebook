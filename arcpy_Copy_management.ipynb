{
 "cells": [
  {
   "cell_type": "code",
   "execution_count": 29,
   "metadata": {},
   "outputs": [],
   "source": [
    "import arcpy"
   ]
  },
  {
   "cell_type": "code",
   "execution_count": 30,
   "metadata": {},
   "outputs": [],
   "source": [
    "arcpy.env.workspace = r'D:\\DataforArcObject\\Hyderabad.gdb'"
   ]
  },
  {
   "cell_type": "code",
   "execution_count": 31,
   "metadata": {},
   "outputs": [],
   "source": [
    "fclist = arcpy.ListFeatureClasses('*Dl*')"
   ]
  },
  {
   "cell_type": "code",
   "execution_count": 32,
   "metadata": {},
   "outputs": [
    {
     "name": "stdout",
     "output_type": "stream",
     "text": [
      "Power_TransformerDl\n",
      "PoleDl\n",
      "ConsumerDl\n",
      "StreamsDl\n",
      "RoadsDl\n",
      "BoundryDl\n",
      "BuildingDl\n",
      "SectorDl\n"
     ]
    }
   ],
   "source": [
    "data = []\n",
    "for fc in fclist:\n",
    "    print(fc)\n",
    "    a = fc\n",
    "    data.append(a)"
   ]
  },
  {
   "cell_type": "code",
   "execution_count": 33,
   "metadata": {},
   "outputs": [
    {
     "name": "stdout",
     "output_type": "stream",
     "text": [
      "['Power_TransformerDl', 'PoleDl', 'ConsumerDl', 'StreamsDl', 'RoadsDl', 'BoundryDl', 'BuildingDl', 'SectorDl']\n"
     ]
    }
   ],
   "source": [
    "print(data)"
   ]
  },
  {
   "cell_type": "code",
   "execution_count": 34,
   "metadata": {},
   "outputs": [],
   "source": [
    "arcpy.env.workspace = r'D:\\DataforArcObject\\Delhi.gdb\\Dataset'"
   ]
  },
  {
   "cell_type": "code",
   "execution_count": 39,
   "metadata": {},
   "outputs": [
    {
     "name": "stdout",
     "output_type": "stream",
     "text": [
      "PoweD\n",
      "PoleD\n",
      "ConsD\n",
      "StreD\n",
      "RoadD\n",
      "BounD\n",
      "BuilD\n",
      "SectD\n"
     ]
    }
   ],
   "source": [
    "for fc in data:\n",
    "    fcname = str(fc[:4]) + 'D'\n",
    "    #fcc = arcpy.CopyFeatures_management(fc,fcname)\n",
    "    print(fcname)"
   ]
  },
  {
   "cell_type": "code",
   "execution_count": null,
   "metadata": {},
   "outputs": [],
   "source": []
  }
 ],
 "metadata": {
  "kernelspec": {
   "display_name": "Python 3",
   "language": "python",
   "name": "python3"
  },
  "language_info": {
   "codemirror_mode": {
    "name": "ipython",
    "version": 3
   },
   "file_extension": ".py",
   "mimetype": "text/x-python",
   "name": "python",
   "nbconvert_exporter": "python",
   "pygments_lexer": "ipython3",
   "version": "3.6.9"
  }
 },
 "nbformat": 4,
 "nbformat_minor": 2
}
