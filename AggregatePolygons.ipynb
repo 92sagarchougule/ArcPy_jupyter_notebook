{
 "cells": [
  {
   "cell_type": "code",
   "execution_count": 32,
   "metadata": {},
   "outputs": [],
   "source": [
    "import arcpy\n",
    "import os\n",
    "from arcpy import env\n",
    "env.workspace = r\"D:\\DataforArcObject\\kmltoshp\""
   ]
  },
  {
   "cell_type": "code",
   "execution_count": 33,
   "metadata": {},
   "outputs": [
    {
     "name": "stdout",
     "output_type": "stream",
     "text": [
      "100\n"
     ]
    }
   ],
   "source": [
    "for agg in range(100,200,1000):\n",
    "    print(agg)"
   ]
  },
  {
   "cell_type": "code",
   "execution_count": 34,
   "metadata": {},
   "outputs": [
    {
     "name": "stdout",
     "output_type": "stream",
     "text": [
      "D:\\DataforArcObject\\Properties_with_HH100.shp\n",
      "D:\\DataforArcObject\\Properties_with_HH200.shp\n",
      "D:\\DataforArcObject\\Properties_with_HH300.shp\n",
      "D:\\DataforArcObject\\Properties_with_HH400.shp\n",
      "D:\\DataforArcObject\\Properties_with_HH500.shp\n",
      "D:\\DataforArcObject\\Properties_with_HH600.shp\n",
      "D:\\DataforArcObject\\Properties_with_HH700.shp\n",
      "D:\\DataforArcObject\\Properties_with_HH800.shp\n",
      "D:\\DataforArcObject\\Properties_with_HH900.shp\n"
     ]
    }
   ],
   "source": [
    "inputs = r\"D:\\DataforArcObject\\Properties_with_HH.shp\"\n",
    "for agg in range(100,1000,100):\n",
    "    env.overwriteOutput = True\n",
    "    distance = str(agg)+' Meters'\n",
    "    Df = inputs.split('.')[0]+str(agg)+'.shp'\n",
    "    arcpy.AggregatePolygons_cartography(inputs,Df,distance)\n",
    "    print(Df)"
   ]
  }
 ],
 "metadata": {
  "kernelspec": {
   "display_name": "Python 3",
   "language": "python",
   "name": "python3"
  },
  "language_info": {
   "codemirror_mode": {
    "name": "ipython",
    "version": 3
   },
   "file_extension": ".py",
   "mimetype": "text/x-python",
   "name": "python",
   "nbconvert_exporter": "python",
   "pygments_lexer": "ipython3",
   "version": "3.6.9"
  }
 },
 "nbformat": 4,
 "nbformat_minor": 2
}
