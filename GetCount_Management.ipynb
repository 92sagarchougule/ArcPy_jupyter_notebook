{
 "cells": [
  {
   "cell_type": "code",
   "execution_count": 1,
   "metadata": {},
   "outputs": [],
   "source": [
    "import arcpy\n",
    "import os"
   ]
  },
  {
   "cell_type": "code",
   "execution_count": 2,
   "metadata": {},
   "outputs": [],
   "source": [
    "data = r\"D:\\DataforArcObject\\Properties_with_HH.shp\""
   ]
  },
  {
   "cell_type": "code",
   "execution_count": 3,
   "metadata": {},
   "outputs": [
    {
     "name": "stdout",
     "output_type": "stream",
     "text": [
      "D:\\DataforArcObject\\Properties_with_HH.shp\n"
     ]
    }
   ],
   "source": [
    "print(data)"
   ]
  },
  {
   "cell_type": "code",
   "execution_count": 4,
   "metadata": {},
   "outputs": [],
   "source": [
    "count = arcpy.management.GetCount(data)"
   ]
  },
  {
   "cell_type": "code",
   "execution_count": 9,
   "metadata": {},
   "outputs": [
    {
     "data": {
      "text/plain": [
       "'530'"
      ]
     },
     "execution_count": 9,
     "metadata": {},
     "output_type": "execute_result"
    }
   ],
   "source": [
    "count.getOutput(0)  # 0 for first output"
   ]
  },
  {
   "cell_type": "code",
   "execution_count": 16,
   "metadata": {},
   "outputs": [
    {
     "name": "stdout",
     "output_type": "stream",
     "text": [
      "%out%.shp\n",
      "1.shp\n",
      "out1.shp\n",
      "OutbyJup.shp\n",
      "outs.shp\n",
      "Properties_with_HH.shp\n"
     ]
    }
   ],
   "source": [
    "from arcpy import env\n",
    "\n",
    "workspce = env.workspace = r\"D:\\DataforArcObject\"\n",
    "\n",
    "fclist = arcpy.ListFeatureClasses()\n",
    "\n",
    "for fc in fclist:\n",
    "    print(fc)"
   ]
  },
  {
   "cell_type": "code",
   "execution_count": 31,
   "metadata": {},
   "outputs": [],
   "source": [
    "def countFc ():\n",
    "    fclist = arcpy.ListFeatureClasses()\n",
    "    for fc in fclist:\n",
    "        count = arcpy.management.GetCount(fc)\n",
    "        desc = arcpy.Describe(fc).spatialReference.factoryCode\n",
    "        field = arcpy.ListFields(fc)\n",
    "        print('Feature Class : ',fc , '\\tcount is',count,'\\tSR : ',desc ,'\\tFields :',len(field))"
   ]
  },
  {
   "cell_type": "code",
   "execution_count": 32,
   "metadata": {},
   "outputs": [
    {
     "name": "stdout",
     "output_type": "stream",
     "text": [
      "Feature Class :  %out%.shp \tcount is 32 \tSR :  32643 \tFields : 76\n",
      "Feature Class :  1.shp \tcount is 32 \tSR :  32643 \tFields : 76\n",
      "Feature Class :  out1.shp \tcount is 32 \tSR :  32643 \tFields : 76\n",
      "Feature Class :  OutbyJup.shp \tcount is 530 \tSR :  4326 \tFields : 52\n",
      "Feature Class :  outs.shp \tcount is 32 \tSR :  32643 \tFields : 76\n",
      "Feature Class :  Properties_with_HH.shp \tcount is 530 \tSR :  4326 \tFields : 50\n"
     ]
    }
   ],
   "source": [
    "countFc()"
   ]
  }
 ],
 "metadata": {
  "kernelspec": {
   "display_name": "Python 3",
   "language": "python",
   "name": "python3"
  },
  "language_info": {
   "codemirror_mode": {
    "name": "ipython",
    "version": 3
   },
   "file_extension": ".py",
   "mimetype": "text/x-python",
   "name": "python",
   "nbconvert_exporter": "python",
   "pygments_lexer": "ipython3",
   "version": "3.6.9"
  }
 },
 "nbformat": 4,
 "nbformat_minor": 2
}
