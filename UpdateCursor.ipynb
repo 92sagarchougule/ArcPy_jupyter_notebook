{
 "cells": [
  {
   "cell_type": "code",
   "execution_count": 1,
   "metadata": {},
   "outputs": [],
   "source": [
    "import arcpy\n",
    "import os\n",
    "from arcpy import env\n",
    "env.workspace = r'D:\\tmep'"
   ]
  },
  {
   "cell_type": "code",
   "execution_count": 2,
   "metadata": {},
   "outputs": [
    {
     "name": "stdout",
     "output_type": "stream",
     "text": [
      "1  :  Fishnet.shp\n",
      "2  :  Fishnet_label.shp\n",
      "3  :  New Personal Geodatabase.shp\n",
      "4  :  New Personal Geodatabase_label.shp\n",
      "5  :  pon.shp\n",
      "6  :  pourpoint.shp\n",
      "7  :  pourpoint_buf1000.shp\n",
      "8  :  Properties_with_HH.shp\n"
     ]
    }
   ],
   "source": [
    "fclist = arcpy.ListFeatureClasses()\n",
    "count = 0\n",
    "for fc in fclist:\n",
    "    count +=1\n",
    "    print(count, ' : ',fc)"
   ]
  },
  {
   "cell_type": "code",
   "execution_count": 3,
   "metadata": {},
   "outputs": [],
   "source": [
    "data = fclist[7]"
   ]
  },
  {
   "cell_type": "code",
   "execution_count": 4,
   "metadata": {},
   "outputs": [
    {
     "name": "stdout",
     "output_type": "stream",
     "text": [
      "Properties_with_HH.shp\n"
     ]
    }
   ],
   "source": [
    "print(data)"
   ]
  }
 ],
 "metadata": {
  "kernelspec": {
   "display_name": "Python 3",
   "language": "python",
   "name": "python3"
  },
  "language_info": {
   "codemirror_mode": {
    "name": "ipython",
    "version": 3
   },
   "file_extension": ".py",
   "mimetype": "text/x-python",
   "name": "python",
   "nbconvert_exporter": "python",
   "pygments_lexer": "ipython3",
   "version": "3.6.9"
  }
 },
 "nbformat": 4,
 "nbformat_minor": 2
}
