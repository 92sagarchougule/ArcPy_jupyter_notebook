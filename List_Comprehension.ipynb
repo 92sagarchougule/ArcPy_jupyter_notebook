{
 "cells": [
  {
   "cell_type": "code",
   "execution_count": 6,
   "metadata": {},
   "outputs": [],
   "source": [
    "import arcpy\n",
    "import os"
   ]
  },
  {
   "cell_type": "code",
   "execution_count": 7,
   "metadata": {},
   "outputs": [],
   "source": [
    "arcpy.env.workspace = r\"D:\\DataforArcObject\""
   ]
  },
  {
   "cell_type": "code",
   "execution_count": 8,
   "metadata": {},
   "outputs": [
    {
     "name": "stdout",
     "output_type": "stream",
     "text": [
      "Properties_with_HH('100', ' Meters').shp\n",
      "Properties_with_HH.shp\n",
      "Properties_with_HH100 Meters.shp\n",
      "Properties_with_HH100.shp\n",
      "Properties_with_HH200.shp\n",
      "Properties_with_HH300.shp\n",
      "Properties_with_HH400.shp\n",
      "Properties_with_HH500.shp\n",
      "Properties_with_HH600.shp\n",
      "Properties_with_HH700.shp\n",
      "Properties_with_HH800.shp\n",
      "Properties_with_HH900.shp\n",
      "Property1.shp\n"
     ]
    }
   ],
   "source": [
    "fclist = arcpy.ListFeatureClasses()\n",
    "\n",
    "for fc in fclist:\n",
    "    print(fc)\n",
    "\n"
   ]
  },
  {
   "cell_type": "code",
   "execution_count": 9,
   "metadata": {},
   "outputs": [
    {
     "name": "stdout",
     "output_type": "stream",
     "text": [
      "[\"Properties_with_HH('100', ' Meters').shp\", 'Properties_with_HH.shp', 'Properties_with_HH100 Meters.shp', 'Properties_with_HH100.shp', 'Properties_with_HH200.shp', 'Properties_with_HH300.shp', 'Properties_with_HH400.shp', 'Properties_with_HH500.shp', 'Properties_with_HH600.shp', 'Properties_with_HH700.shp', 'Properties_with_HH800.shp', 'Properties_with_HH900.shp', 'Property1.shp']\n"
     ]
    }
   ],
   "source": [
    "# List Comprehension\n",
    "\n",
    "fcl = [f for f in fclist]\n",
    "print(fcl)"
   ]
  },
  {
   "cell_type": "code",
   "execution_count": 10,
   "metadata": {},
   "outputs": [
    {
     "name": "stdout",
     "output_type": "stream",
     "text": [
      "[\"roperties_with_HH('100', ' Meters').sh\", 'roperties_with_HH.sh', 'roperties_with_HH100 Meters.sh', 'roperties_with_HH100.sh', 'roperties_with_HH200.sh', 'roperties_with_HH300.sh', 'roperties_with_HH400.sh', 'roperties_with_HH500.sh', 'roperties_with_HH600.sh', 'roperties_with_HH700.sh', 'roperties_with_HH800.sh', 'roperties_with_HH900.sh', 'roperty1.sh']\n"
     ]
    }
   ],
   "source": [
    "# List Comprehension\n",
    "\n",
    "fcl = [f[1:-1] for f in fclist]\n",
    "print(fcl)"
   ]
  },
  {
   "cell_type": "code",
   "execution_count": 11,
   "metadata": {},
   "outputs": [
    {
     "name": "stdout",
     "output_type": "stream",
     "text": [
      "[\"PROPERTIES_WITH_HH('100', ' METERS').SHP\", 'PROPERTIES_WITH_HH.SHP', 'PROPERTIES_WITH_HH100 METERS.SHP', 'PROPERTIES_WITH_HH100.SHP', 'PROPERTIES_WITH_HH200.SHP', 'PROPERTIES_WITH_HH300.SHP', 'PROPERTIES_WITH_HH400.SHP', 'PROPERTIES_WITH_HH500.SHP', 'PROPERTIES_WITH_HH600.SHP', 'PROPERTIES_WITH_HH700.SHP', 'PROPERTIES_WITH_HH800.SHP', 'PROPERTIES_WITH_HH900.SHP', 'PROPERTY1.SHP']\n"
     ]
    }
   ],
   "source": [
    "# List Comprehension\n",
    "\n",
    "fcl = [f.upper() for f in fclist]\n",
    "print(fcl)"
   ]
  },
  {
   "cell_type": "code",
   "execution_count": 12,
   "metadata": {},
   "outputs": [
    {
     "name": "stdout",
     "output_type": "stream",
     "text": [
      "[\"properties_with_hh('100', ' meters').shp\", 'properties_with_hh.shp', 'properties_with_hh100 meters.shp', 'properties_with_hh100.shp', 'properties_with_hh200.shp', 'properties_with_hh300.shp', 'properties_with_hh400.shp', 'properties_with_hh500.shp', 'properties_with_hh600.shp', 'properties_with_hh700.shp', 'properties_with_hh800.shp', 'properties_with_hh900.shp', 'property1.shp']\n"
     ]
    }
   ],
   "source": [
    "# List Comprehension\n",
    "\n",
    "fcl = [f.lower() for f in fclist]\n",
    "print(fcl)"
   ]
  },
  {
   "cell_type": "code",
   "execution_count": 13,
   "metadata": {},
   "outputs": [
    {
     "name": "stdout",
     "output_type": "stream",
     "text": [
      "skeep-de\n",
      "  \n",
      "beep\n",
      "     bup\t     bup\t     bup\t  \n",
      "beep\n",
      "     bup\t     bup\t     bup\t\n",
      "ba doop\n"
     ]
    }
   ],
   "source": [
    "print('skeep-de')\n",
    "for i in range(2):\n",
    "    print('  \\nbeep')\n",
    "    for j in range(3):\n",
    "        print('     bup\\t',end='')\n",
    "print('\\nba doop')"
   ]
  },
  {
   "cell_type": "code",
   "execution_count": 14,
   "metadata": {},
   "outputs": [
    {
     "name": "stdout",
     "output_type": "stream",
     "text": [
      "10\n",
      "11\n",
      "12\n",
      "20\n",
      "21\n",
      "22\n",
      "30\n",
      "31\n",
      "32\n",
      "40\n",
      "41\n",
      "42\n",
      "50\n",
      "51\n",
      "52\n"
     ]
    }
   ],
   "source": [
    "for i in range(10,60,10):\n",
    "    for j in range(3):\n",
    "        print(i+j)"
   ]
  },
  {
   "cell_type": "code",
   "execution_count": 15,
   "metadata": {},
   "outputs": [
    {
     "name": "stdout",
     "output_type": "stream",
     "text": [
      "D:\\DataforArcObject \t\n",
      "D:\\DataforArcObject\\FbDase.gdb \t\n",
      "D:\\DataforArcObject\\fgdbs.gdb \t\n",
      "D:\\DataforArcObject\\Hyderabad.gdb \t\n",
      "D:\\DataforArcObject\\kml \t\n",
      "D:\\DataforArcObject\\kmltoshp \t\n",
      "D:\\DataforArcObject\\StreamData.gdb \t\n"
     ]
    }
   ],
   "source": [
    "mydir = r\"D:\\DataforArcObject\"\n",
    "\n",
    "for root, dirs, files in os.walk(mydir):\n",
    "    print(root,'\\t')"
   ]
  },
  {
   "cell_type": "code",
   "execution_count": 16,
   "metadata": {},
   "outputs": [
    {
     "name": "stdout",
     "output_type": "stream",
     "text": [
      "['FbDase.gdb', 'fgdbs.gdb', 'Hyderabad.gdb', 'kml', 'kmltoshp', 'StreamData.gdb'] \t\n",
      "[] \t\n",
      "[] \t\n",
      "[] \t\n",
      "[] \t\n",
      "[] \t\n",
      "[] \t\n"
     ]
    }
   ],
   "source": [
    "for root, dirs, files in os.walk(mydir):\n",
    "    print(dirs,'\\t')"
   ]
  },
  {
   "cell_type": "code",
   "execution_count": 17,
   "metadata": {},
   "outputs": [
    {
     "name": "stdout",
     "output_type": "stream",
     "text": [
      "['BuffToolBox.Buffer_pts.pyt.xml', 'BuffToolBox.pyt', 'BuffToolBox.pyt.xml', 'corChoose.mdb', 'jjjjjj.mdb', 'JNU.mdb', 'nbscd.mdb', 'pDbase.mdb', \"Properties_with_HH('100', ' Meters').cpg\", \"Properties_with_HH('100', ' Meters').dbf\", \"Properties_with_HH('100', ' Meters').prj\", \"Properties_with_HH('100', ' Meters').sbn\", \"Properties_with_HH('100', ' Meters').sbx\", \"Properties_with_HH('100', ' Meters').shp\", \"Properties_with_HH('100', ' Meters').shp.DESKTOP-V3NTKVF.2660.10124.sr.lock\", \"Properties_with_HH('100', ' Meters').shp.xml\", \"Properties_with_HH('100', ' Meters').shx\", 'Properties_with_HH.CPG', 'Properties_with_HH.dbf', 'Properties_with_HH.prj', 'Properties_with_HH.shp', 'Properties_with_HH.shp.DESKTOP-V3NTKVF.2660.10124.sr.lock', 'Properties_with_HH.shx', 'Properties_with_HH100 Meters.cpg', 'Properties_with_HH100 Meters.dbf', 'Properties_with_HH100 Meters.prj', 'Properties_with_HH100 Meters.sbn', 'Properties_with_HH100 Meters.sbx', 'Properties_with_HH100 Meters.shp', 'Properties_with_HH100 Meters.shp.xml', 'Properties_with_HH100 Meters.shx', 'Properties_with_HH100.cpg', 'Properties_with_HH100.dbf', 'Properties_with_HH100.prj', 'Properties_with_HH100.sbn', 'Properties_with_HH100.sbx', 'Properties_with_HH100.shp', 'Properties_with_HH100.shp.xml', 'Properties_with_HH100.shx', 'Properties_with_HH200.cpg', 'Properties_with_HH200.dbf', 'Properties_with_HH200.prj', 'Properties_with_HH200.sbn', 'Properties_with_HH200.sbx', 'Properties_with_HH200.shp', 'Properties_with_HH200.shp.xml', 'Properties_with_HH200.shx', 'Properties_with_HH300.cpg', 'Properties_with_HH300.dbf', 'Properties_with_HH300.prj', 'Properties_with_HH300.sbn', 'Properties_with_HH300.sbx', 'Properties_with_HH300.shp', 'Properties_with_HH300.shp.xml', 'Properties_with_HH300.shx', 'Properties_with_HH400.cpg', 'Properties_with_HH400.dbf', 'Properties_with_HH400.prj', 'Properties_with_HH400.sbn', 'Properties_with_HH400.sbx', 'Properties_with_HH400.shp', 'Properties_with_HH400.shp.xml', 'Properties_with_HH400.shx', 'Properties_with_HH500.cpg', 'Properties_with_HH500.dbf', 'Properties_with_HH500.prj', 'Properties_with_HH500.sbn', 'Properties_with_HH500.sbx', 'Properties_with_HH500.shp', 'Properties_with_HH500.shp.xml', 'Properties_with_HH500.shx', 'Properties_with_HH600.cpg', 'Properties_with_HH600.dbf', 'Properties_with_HH600.prj', 'Properties_with_HH600.sbn', 'Properties_with_HH600.sbx', 'Properties_with_HH600.shp', 'Properties_with_HH600.shp.xml', 'Properties_with_HH600.shx', 'Properties_with_HH700.cpg', 'Properties_with_HH700.dbf', 'Properties_with_HH700.prj', 'Properties_with_HH700.sbn', 'Properties_with_HH700.sbx', 'Properties_with_HH700.shp', 'Properties_with_HH700.shp.xml', 'Properties_with_HH700.shx', 'Properties_with_HH800.cpg', 'Properties_with_HH800.dbf', 'Properties_with_HH800.prj', 'Properties_with_HH800.sbn', 'Properties_with_HH800.sbx', 'Properties_with_HH800.shp', 'Properties_with_HH800.shp.DESKTOP-V3NTKVF.2660.10124.sr.lock', 'Properties_with_HH800.shp.xml', 'Properties_with_HH800.shx', 'Properties_with_HH900.cpg', 'Properties_with_HH900.dbf', 'Properties_with_HH900.prj', 'Properties_with_HH900.sbn', 'Properties_with_HH900.sbx', 'Properties_with_HH900.shp', 'Properties_with_HH900.shp.DESKTOP-V3NTKVF.2660.10124.sr.lock', 'Properties_with_HH900.shp.xml', 'Properties_with_HH900.shx', 'Property1.cpg', 'Property1.dbf', 'Property1.prj', 'Property1.sbn', 'Property1.sbx', 'Property1.shp', 'Property1.shp.xml', 'Property1.shx', 'TakeOne.mdb'] \t\n",
      "['a00000001.gdbindexes', 'a00000001.gdbtable', 'a00000001.gdbtablx', 'a00000001.TablesByName.atx', 'a00000002.gdbtable', 'a00000002.gdbtablx', 'a00000003.gdbindexes', 'a00000003.gdbtable', 'a00000003.gdbtablx', 'a00000004.CatItemsByPhysicalName.atx', 'a00000004.CatItemsByType.atx', 'a00000004.FDO_UUID.atx', 'a00000004.gdbindexes', 'a00000004.gdbtable', 'a00000004.gdbtablx', 'a00000004.spx', 'a00000005.CatItemTypesByName.atx', 'a00000005.CatItemTypesByParentTypeID.atx', 'a00000005.CatItemTypesByUUID.atx', 'a00000005.gdbindexes', 'a00000005.gdbtable', 'a00000005.gdbtablx', 'a00000006.CatRelsByDestinationID.atx', 'a00000006.CatRelsByOriginID.atx', 'a00000006.CatRelsByType.atx', 'a00000006.FDO_UUID.atx', 'a00000006.gdbindexes', 'a00000006.gdbtable', 'a00000006.gdbtablx', 'a00000007.CatRelTypesByBackwardLabel.atx', 'a00000007.CatRelTypesByDestItemTypeID.atx', 'a00000007.CatRelTypesByForwardLabel.atx', 'a00000007.CatRelTypesByName.atx', 'a00000007.CatRelTypesByOriginItemTypeID.atx', 'a00000007.CatRelTypesByUUID.atx', 'a00000007.gdbindexes', 'a00000007.gdbtable', 'a00000007.gdbtablx', 'gdb', 'timestamps'] \t\n",
      "['a00000001.gdbindexes', 'a00000001.gdbtable', 'a00000001.gdbtablx', 'a00000001.TablesByName.atx', 'a00000002.gdbtable', 'a00000002.gdbtablx', 'a00000003.gdbindexes', 'a00000003.gdbtable', 'a00000003.gdbtablx', 'a00000004.CatItemsByPhysicalName.atx', 'a00000004.CatItemsByType.atx', 'a00000004.FDO_UUID.atx', 'a00000004.gdbindexes', 'a00000004.gdbtable', 'a00000004.gdbtablx', 'a00000004.spx', 'a00000005.CatItemTypesByName.atx', 'a00000005.CatItemTypesByParentTypeID.atx', 'a00000005.CatItemTypesByUUID.atx', 'a00000005.gdbindexes', 'a00000005.gdbtable', 'a00000005.gdbtablx', 'a00000006.CatRelsByDestinationID.atx', 'a00000006.CatRelsByOriginID.atx', 'a00000006.CatRelsByType.atx', 'a00000006.FDO_UUID.atx', 'a00000006.gdbindexes', 'a00000006.gdbtable', 'a00000006.gdbtablx', 'a00000007.CatRelTypesByBackwardLabel.atx', 'a00000007.CatRelTypesByDestItemTypeID.atx', 'a00000007.CatRelTypesByForwardLabel.atx', 'a00000007.CatRelTypesByName.atx', 'a00000007.CatRelTypesByOriginItemTypeID.atx', 'a00000007.CatRelTypesByUUID.atx', 'a00000007.gdbindexes', 'a00000007.gdbtable', 'a00000007.gdbtablx', 'gdb', 'timestamps'] \t\n",
      "['a00000001.freelist', 'a00000001.gdbindexes', 'a00000001.gdbtable', 'a00000001.gdbtablx', 'a00000001.TablesByName.atx', 'a00000002.gdbtable', 'a00000002.gdbtablx', 'a00000003.gdbindexes', 'a00000003.gdbtable', 'a00000003.gdbtablx', 'a00000004.CatItemsByPhysicalName.atx', 'a00000004.CatItemsByType.atx', 'a00000004.FDO_UUID.atx', 'a00000004.freelist', 'a00000004.gdbindexes', 'a00000004.gdbtable', 'a00000004.gdbtablx', 'a00000004.spx', 'a00000005.CatItemTypesByName.atx', 'a00000005.CatItemTypesByParentTypeID.atx', 'a00000005.CatItemTypesByUUID.atx', 'a00000005.gdbindexes', 'a00000005.gdbtable', 'a00000005.gdbtablx', 'a00000006.CatRelsByDestinationID.atx', 'a00000006.CatRelsByOriginID.atx', 'a00000006.CatRelsByType.atx', 'a00000006.FDO_UUID.atx', 'a00000006.freelist', 'a00000006.gdbindexes', 'a00000006.gdbtable', 'a00000006.gdbtablx', 'a00000007.CatRelTypesByBackwardLabel.atx', 'a00000007.CatRelTypesByDestItemTypeID.atx', 'a00000007.CatRelTypesByForwardLabel.atx', 'a00000007.CatRelTypesByName.atx', 'a00000007.CatRelTypesByOriginItemTypeID.atx', 'a00000007.CatRelTypesByUUID.atx', 'a00000007.gdbindexes', 'a00000007.gdbtable', 'a00000007.gdbtablx', 'a0000000b.gdbindexes', 'a0000000b.gdbtable', 'a0000000b.gdbtablx', 'a0000000b.spx', 'a0000000c.gdbindexes', 'a0000000c.gdbtable', 'a0000000c.gdbtablx', 'a0000000c.spx', 'a0000000f.Area.atx', 'a0000000f.freelist', 'a0000000f.gdbindexes', 'a0000000f.gdbtable', 'a0000000f.gdbtablx', 'a0000000f.spx', 'a00000010.freelist', 'a00000010.gdbindexes', 'a00000010.gdbtable', 'a00000010.gdbtablx', 'a00000010.spx', 'a00000011.gdbindexes', 'a00000011.gdbtable', 'a00000011.gdbtablx', 'a00000011.spx', 'a00000012.gdbindexes', 'a00000012.gdbtable', 'a00000012.gdbtablx', 'a00000012.spx', 'a00000013.gdbindexes', 'a00000013.gdbtable', 'a00000013.gdbtablx', 'a00000015.gdbindexes', 'a00000015.gdbtable', 'a00000015.gdbtablx', 'a00000015.spx', 'a00000016.freelist', 'a00000016.gdbindexes', 'a00000016.gdbtable', 'a00000016.gdbtablx', 'a00000016.spx', 'a00000017.gdbindexes', 'a00000017.gdbtable', 'a00000017.gdbtablx', 'a00000017.spx', 'a00000018.freelist', 'a00000018.gdbindexes', 'a00000018.gdbtable', 'a00000018.gdbtablx', 'a00000018.spx', 'a00000019.gdbindexes', 'a00000019.gdbtable', 'a00000019.gdbtablx', 'a00000019.spx', 'a0000001a.gdbindexes', 'a0000001a.gdbtable', 'a0000001a.gdbtablx', 'a0000001a.spx', 'a0000001c.gdbindexes', 'a0000001c.gdbtable', 'a0000001c.gdbtablx', 'a0000001c.spx', 'gdb', 'timestamps', '_gdb.DESKTOP-7O055NE.13212.11776.sr.lock'] \t\n",
      "['GPSWpts-2022-09-16-all_wpts.kml', 'GPSWpts-2022-09-17-all_wpts.kml', 'Property1.dbf'] \t\n",
      "[] \t\n",
      "['a00000001.gdbindexes', 'a00000001.gdbtable', 'a00000001.gdbtablx', 'a00000001.TablesByName.atx', 'a00000002.gdbtable', 'a00000002.gdbtablx', 'a00000003.gdbindexes', 'a00000003.gdbtable', 'a00000003.gdbtablx', 'a00000004.CatItemsByPhysicalName.atx', 'a00000004.CatItemsByType.atx', 'a00000004.FDO_UUID.atx', 'a00000004.freelist', 'a00000004.gdbindexes', 'a00000004.gdbtable', 'a00000004.gdbtablx', 'a00000004.spx', 'a00000005.CatItemTypesByName.atx', 'a00000005.CatItemTypesByParentTypeID.atx', 'a00000005.CatItemTypesByUUID.atx', 'a00000005.gdbindexes', 'a00000005.gdbtable', 'a00000005.gdbtablx', 'a00000006.CatRelsByDestinationID.atx', 'a00000006.CatRelsByOriginID.atx', 'a00000006.CatRelsByType.atx', 'a00000006.FDO_UUID.atx', 'a00000006.gdbindexes', 'a00000006.gdbtable', 'a00000006.gdbtablx', 'a00000007.CatRelTypesByBackwardLabel.atx', 'a00000007.CatRelTypesByDestItemTypeID.atx', 'a00000007.CatRelTypesByForwardLabel.atx', 'a00000007.CatRelTypesByName.atx', 'a00000007.CatRelTypesByOriginItemTypeID.atx', 'a00000007.CatRelTypesByUUID.atx', 'a00000007.gdbindexes', 'a00000007.gdbtable', 'a00000007.gdbtablx', 'a00000009.gdbindexes', 'a00000009.gdbtable', 'a00000009.gdbtablx', 'a00000009.spx', 'gdb', 'timestamps'] \t\n"
     ]
    }
   ],
   "source": [
    "for root, dirs, files in os.walk(mydir):\n",
    "    print(files,'\\t')"
   ]
  },
  {
   "cell_type": "code",
   "execution_count": 40,
   "metadata": {},
   "outputs": [
    {
     "name": "stdout",
     "output_type": "stream",
     "text": [
      "[0, 1, 2, 3, 4, 5, 6, 7, 8, 9]\n"
     ]
    }
   ],
   "source": [
    "y = []\n",
    "\n",
    "for i in range(10):\n",
    "    j = i\n",
    "    y.append(j)\n",
    "print(y)"
   ]
  },
  {
   "cell_type": "code",
   "execution_count": 41,
   "metadata": {},
   "outputs": [
    {
     "name": "stdout",
     "output_type": "stream",
     "text": [
      "[0, 1, 2, 3, 4, 5, 6, 7, 8, 9]\n"
     ]
    }
   ],
   "source": [
    "y = [i for i in range(10)]\n",
    "print(y)"
   ]
  },
  {
   "cell_type": "code",
   "execution_count": 44,
   "metadata": {},
   "outputs": [
    {
     "name": "stdout",
     "output_type": "stream",
     "text": [
      "[]  = \n",
      "['a00000001.freelist', 'a00000001.gdbindexes', 'a00000001.gdbtable', 'a00000001.gdbtablx', 'a00000001.TablesByName.atx', 'a00000002.gdbtable', 'a00000002.gdbtablx', 'a00000003.gdbindexes', 'a00000003.gdbtable', 'a00000003.gdbtablx', 'a00000004.CatItemsByPhysicalName.atx', 'a00000004.CatItemsByType.atx', 'a00000004.FDO_UUID.atx', 'a00000004.freelist', 'a00000004.gdbindexes', 'a00000004.gdbtable', 'a00000004.gdbtablx', 'a00000004.spx', 'a00000005.CatItemTypesByName.atx', 'a00000005.CatItemTypesByParentTypeID.atx', 'a00000005.CatItemTypesByUUID.atx', 'a00000005.gdbindexes', 'a00000005.gdbtable', 'a00000005.gdbtablx', 'a00000006.CatRelsByDestinationID.atx', 'a00000006.CatRelsByOriginID.atx', 'a00000006.CatRelsByType.atx', 'a00000006.FDO_UUID.atx', 'a00000006.freelist', 'a00000006.gdbindexes', 'a00000006.gdbtable', 'a00000006.gdbtablx', 'a00000007.CatRelTypesByBackwardLabel.atx', 'a00000007.CatRelTypesByDestItemTypeID.atx', 'a00000007.CatRelTypesByForwardLabel.atx', 'a00000007.CatRelTypesByName.atx', 'a00000007.CatRelTypesByOriginItemTypeID.atx', 'a00000007.CatRelTypesByUUID.atx', 'a00000007.gdbindexes', 'a00000007.gdbtable', 'a00000007.gdbtablx', 'a0000000b.gdbindexes', 'a0000000b.gdbtable', 'a0000000b.gdbtablx', 'a0000000b.spx', 'a0000000c.gdbindexes', 'a0000000c.gdbtable', 'a0000000c.gdbtablx', 'a0000000c.spx', 'a0000000f.Area.atx', 'a0000000f.freelist', 'a0000000f.gdbindexes', 'a0000000f.gdbtable', 'a0000000f.gdbtablx', 'a0000000f.spx', 'a00000010.freelist', 'a00000010.gdbindexes', 'a00000010.gdbtable', 'a00000010.gdbtablx', 'a00000010.spx', 'a00000011.gdbindexes', 'a00000011.gdbtable', 'a00000011.gdbtablx', 'a00000011.spx', 'a00000012.gdbindexes', 'a00000012.gdbtable', 'a00000012.gdbtablx', 'a00000012.spx', 'a00000013.gdbindexes', 'a00000013.gdbtable', 'a00000013.gdbtablx', 'a00000015.gdbindexes', 'a00000015.gdbtable', 'a00000015.gdbtablx', 'a00000015.spx', 'a00000016.freelist', 'a00000016.gdbindexes', 'a00000016.gdbtable', 'a00000016.gdbtablx', 'a00000016.spx', 'a00000017.gdbindexes', 'a00000017.gdbtable', 'a00000017.gdbtablx', 'a00000017.spx', 'a00000018.freelist', 'a00000018.gdbindexes', 'a00000018.gdbtable', 'a00000018.gdbtablx', 'a00000018.spx', 'a00000019.gdbindexes', 'a00000019.gdbtable', 'a00000019.gdbtablx', 'a00000019.spx', 'a0000001a.gdbindexes', 'a0000001a.gdbtable', 'a0000001a.gdbtablx', 'a0000001a.spx', 'a0000001c.gdbindexes', 'a0000001c.gdbtable', 'a0000001c.gdbtablx', 'a0000001c.spx', 'gdb', 'timestamps', '_gdb.DESKTOP-7O055NE.13212.11776.sr.lock', '_gdb.DESKTOP-V3NTKVF.2660.10124.sr.lock']  = \n",
      "['GPSWpts-2022-09-16-all_wpts.kml', 'GPSWpts-2022-09-17-all_wpts.kml', 'Property1.dbf']  = \n",
      "[]  = \n"
     ]
    }
   ],
   "source": [
    "for dirs ,index, value in os.walk(mydir):\n",
    "    print(value,' = ')"
   ]
  }
 ],
 "metadata": {
  "kernelspec": {
   "display_name": "Python 3",
   "language": "python",
   "name": "python3"
  },
  "language_info": {
   "codemirror_mode": {
    "name": "ipython",
    "version": 3
   },
   "file_extension": ".py",
   "mimetype": "text/x-python",
   "name": "python",
   "nbconvert_exporter": "python",
   "pygments_lexer": "ipython3",
   "version": "3.6.9"
  }
 },
 "nbformat": 4,
 "nbformat_minor": 2
}
