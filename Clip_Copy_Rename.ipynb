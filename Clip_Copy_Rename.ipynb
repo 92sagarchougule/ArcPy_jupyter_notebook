{
 "cells": [
  {
   "cell_type": "code",
   "execution_count": 1,
   "metadata": {},
   "outputs": [],
   "source": [
    "import arcpy\n",
    "from arcpy import env"
   ]
  },
  {
   "cell_type": "code",
   "execution_count": 2,
   "metadata": {},
   "outputs": [],
   "source": [
    "env.workspace = r'D:\\DataforArcObject\\Hyderabad.gdb\\Electric'\n",
    "flist = arcpy.ListFeatureClasses()"
   ]
  },
  {
   "cell_type": "code",
   "execution_count": 3,
   "metadata": {},
   "outputs": [
    {
     "name": "stdout",
     "output_type": "stream",
     "text": [
      "Building\n",
      "Consumer\n",
      "Pole\n",
      "Power_Transformer\n",
      "Meter\n"
     ]
    }
   ],
   "source": [
    "for i in flist:\n",
    "    print(i)"
   ]
  },
  {
   "cell_type": "code",
   "execution_count": 4,
   "metadata": {},
   "outputs": [],
   "source": [
    "data = r'D:\\DataforArcObject\\Delhi.gdb\\Dataset\\Sector'"
   ]
  },
  {
   "cell_type": "code",
   "execution_count": 5,
   "metadata": {},
   "outputs": [],
   "source": [
    "#for fc in flist:\n",
    "#...     fcname = str(fc)+'clip'\n",
    "#...     arcpy.Clip_analysis(fc,data,fcname)"
   ]
  },
  {
   "cell_type": "code",
   "execution_count": 6,
   "metadata": {},
   "outputs": [],
   "source": [
    "env.workspace = r'D:\\DataforArcObject\\Hyderabad.gdb\\Boundary'\n",
    "flist = arcpy.ListFeatureClasses()"
   ]
  },
  {
   "cell_type": "code",
   "execution_count": 7,
   "metadata": {},
   "outputs": [
    {
     "name": "stdout",
     "output_type": "stream",
     "text": [
      "Sector\n",
      "Landmark\n",
      "Roads\n",
      "Streams\n",
      "Boundry\n",
      "Roads_buf5\n"
     ]
    }
   ],
   "source": [
    "for i in flist:\n",
    "    print(i)"
   ]
  },
  {
   "cell_type": "code",
   "execution_count": null,
   "metadata": {},
   "outputs": [],
   "source": [
    "for fc in flist:\n",
    "...     fcname = str(fc)+'clip'\n",
    "...     arcpy.Clip_analysis(fc,data,fcname)"
   ]
  }
 ],
 "metadata": {
  "kernelspec": {
   "display_name": "Python 3",
   "language": "python",
   "name": "python3"
  },
  "language_info": {
   "codemirror_mode": {
    "name": "ipython",
    "version": 3
   },
   "file_extension": ".py",
   "mimetype": "text/x-python",
   "name": "python",
   "nbconvert_exporter": "python",
   "pygments_lexer": "ipython3",
   "version": "3.6.9"
  }
 },
 "nbformat": 4,
 "nbformat_minor": 2
}
