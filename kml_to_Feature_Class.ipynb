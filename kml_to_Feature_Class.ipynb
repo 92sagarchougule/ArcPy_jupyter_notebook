{
 "cells": [
  {
   "cell_type": "code",
   "execution_count": 25,
   "metadata": {},
   "outputs": [
    {
     "data": {
      "text/plain": [
       "'CheckedIn'"
      ]
     },
     "execution_count": 25,
     "metadata": {},
     "output_type": "execute_result"
    }
   ],
   "source": [
    "import arcpy\n",
    "import os\n",
    "from arcpy import env\n",
    "arcpy.CheckInExtension('spatial')"
   ]
  },
  {
   "cell_type": "code",
   "execution_count": 31,
   "metadata": {},
   "outputs": [],
   "source": [
    "env.workspace = r\"D:\\DataforArcObject\\kml\"\n",
    "outFolder = r\"D:\\DataforArcObject\\kmltoshp\""
   ]
  },
  {
   "cell_type": "code",
   "execution_count": 40,
   "metadata": {},
   "outputs": [
    {
     "name": "stdout",
     "output_type": "stream",
     "text": [
      ".kml_out.shp\n",
      "GPSWpts-2022-09-16-all_wpts_out.shp\n",
      ".kml_out.shp\n",
      "GPSWpts-2022-09-17-all_wpts_out.shp\n"
     ]
    }
   ],
   "source": [
    "fckml = arcpy.ListFiles('*kml')\n",
    "\n",
    "for kml in fckml:\n",
    "    print(os.path.splitext(kml)[1] + '_out.shp')\n",
    "    print(os.path.splitext(kml)[0] + '_out.shp' )\n",
    "    #outKMl = arcpy.KMLToLayer_conversion(kml,outFolder,2500)\n",
    "    #FcOut = arcpy.CopyFeatures_management(outKMl,fcName)\n",
    "    #print(FcOut)\n",
    "    #print(kml)"
   ]
  }
 ],
 "metadata": {
  "kernelspec": {
   "display_name": "Python 3",
   "language": "python",
   "name": "python3"
  },
  "language_info": {
   "codemirror_mode": {
    "name": "ipython",
    "version": 3
   },
   "file_extension": ".py",
   "mimetype": "text/x-python",
   "name": "python",
   "nbconvert_exporter": "python",
   "pygments_lexer": "ipython3",
   "version": "3.6.9"
  }
 },
 "nbformat": 4,
 "nbformat_minor": 2
}
